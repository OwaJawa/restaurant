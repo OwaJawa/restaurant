{
 "cells": [
  {
   "cell_type": "markdown",
   "metadata": {},
   "source": [
    "# Analisis Tingkat Pelanggan Kembali pada Outback"
   ]
  },
  {
   "cell_type": "code",
   "execution_count": 28,
   "metadata": {
    "collapsed": false
   },
   "outputs": [],
   "source": [
    "library(ggplot2)\n",
    "library(MASS)\n",
    "library(reshape2)\n",
    "library(corrplot)\n",
    "library(plyr)\n",
    "library(mgcv)\n",
    "library(sm)\n",
    "library(vars)\n",
    "library(lattice)\n",
    "library(R2HTML)\n",
    "library(knitr)\n",
    "library(IRkernel)\n",
    "options(repr.plot.width = 7)\n",
    "options(repr.plot.height = 5)"
   ]
  },
  {
   "cell_type": "markdown",
   "metadata": {},
   "source": [
    "# Data Outback:"
   ]
  },
  {
   "cell_type": "code",
   "execution_count": 29,
   "metadata": {
    "collapsed": false
   },
   "outputs": [
    {
     "data": {
      "text/html": [
       "<table>\n",
       "<thead><tr><th></th><th scope=col>RRO</th><th scope=col>TampilanO</th><th scope=col>MenuO</th><th scope=col>PackagingO</th><th scope=col>WifiO</th><th scope=col>PembayaranO</th><th scope=col>PelayananO</th></tr></thead>\n",
       "<tbody>\n",
       "\t<tr><th scope=row>1</th><td>3</td><td>4</td><td>4</td><td>4</td><td>4</td><td>4</td><td>4</td></tr>\n",
       "\t<tr><th scope=row>2</th><td>3</td><td>4</td><td>4</td><td>4</td><td>3</td><td>4</td><td>4</td></tr>\n",
       "\t<tr><th scope=row>3</th><td>5</td><td>5</td><td>5</td><td>5</td><td>5</td><td>5</td><td>5</td></tr>\n",
       "\t<tr><th scope=row>4</th><td>4</td><td>4</td><td>4</td><td>3</td><td>3</td><td>3</td><td>4</td></tr>\n",
       "\t<tr><th scope=row>5</th><td>5</td><td>4</td><td>4</td><td>4</td><td>4</td><td>3</td><td>5</td></tr>\n",
       "\t<tr><th scope=row>6</th><td>4</td><td>4</td><td>4</td><td>4</td><td>4</td><td>4</td><td>4</td></tr>\n",
       "\t<tr><th scope=row>7</th><td>3</td><td>4</td><td>4</td><td>4</td><td>4</td><td>4</td><td>4</td></tr>\n",
       "\t<tr><th scope=row>8</th><td>3</td><td>4</td><td>4</td><td>4</td><td>4</td><td>4</td><td>4</td></tr>\n",
       "\t<tr><th scope=row>9</th><td>3</td><td>4</td><td>4</td><td>4</td><td>3</td><td>4</td><td>4</td></tr>\n",
       "\t<tr><th scope=row>10</th><td>3</td><td>4</td><td>4</td><td>4</td><td>3</td><td>4</td><td>4</td></tr>\n",
       "\t<tr><th scope=row>11</th><td>5</td><td>4</td><td>5</td><td>5</td><td>3</td><td>4</td><td>5</td></tr>\n",
       "\t<tr><th scope=row>12</th><td>4</td><td>4</td><td>4</td><td>4</td><td>4</td><td>4</td><td>4</td></tr>\n",
       "\t<tr><th scope=row>13</th><td>3</td><td>5</td><td>5</td><td>4</td><td>4</td><td>5</td><td>5</td></tr>\n",
       "\t<tr><th scope=row>14</th><td>3</td><td>5</td><td>4</td><td>4</td><td>4</td><td>4</td><td>4</td></tr>\n",
       "\t<tr><th scope=row>15</th><td>4</td><td>4</td><td>4</td><td>4</td><td>4</td><td>4</td><td>4</td></tr>\n",
       "\t<tr><th scope=row>16</th><td>4</td><td>1</td><td>1</td><td>1</td><td>4</td><td>4</td><td>4</td></tr>\n",
       "\t<tr><th scope=row>17</th><td>3</td><td>4</td><td>4</td><td>4</td><td>4</td><td>4</td><td>4</td></tr>\n",
       "\t<tr><th scope=row>18</th><td>3</td><td>4</td><td>4</td><td>5</td><td>3</td><td>5</td><td>4</td></tr>\n",
       "\t<tr><th scope=row>19</th><td>4</td><td>4</td><td>4</td><td>4</td><td>2</td><td>2</td><td>4</td></tr>\n",
       "\t<tr><th scope=row>20</th><td>2</td><td>5</td><td>5</td><td>4</td><td>4</td><td>3</td><td>4</td></tr>\n",
       "\t<tr><th scope=row>21</th><td>3</td><td>4</td><td>4</td><td>4</td><td>4</td><td>4</td><td>4</td></tr>\n",
       "\t<tr><th scope=row>22</th><td>4</td><td>4</td><td>4</td><td>4</td><td>4</td><td>5</td><td>3</td></tr>\n",
       "\t<tr><th scope=row>23</th><td>3</td><td>4</td><td>4</td><td>4</td><td>3</td><td>4</td><td>4</td></tr>\n",
       "\t<tr><th scope=row>24</th><td>3</td><td>4</td><td>4</td><td>3</td><td>3</td><td>4</td><td>4</td></tr>\n",
       "\t<tr><th scope=row>25</th><td>4</td><td>4</td><td>4</td><td>4</td><td>4</td><td>4</td><td>4</td></tr>\n",
       "\t<tr><th scope=row>26</th><td>3</td><td>4</td><td>4</td><td>4</td><td>4</td><td>4</td><td>4</td></tr>\n",
       "\t<tr><th scope=row>27</th><td>3</td><td>2</td><td>2</td><td>4</td><td>4</td><td>4</td><td>4</td></tr>\n",
       "\t<tr><th scope=row>28</th><td>3</td><td>3</td><td>4</td><td>5</td><td>3</td><td>4</td><td>4</td></tr>\n",
       "\t<tr><th scope=row>29</th><td>2</td><td>4</td><td>4</td><td>4</td><td>2</td><td>2</td><td>4</td></tr>\n",
       "\t<tr><th scope=row>30</th><td>2</td><td>4</td><td>4</td><td>4</td><td>4</td><td>4</td><td>5</td></tr>\n",
       "\t<tr><th scope=row>31</th><td>4</td><td>4</td><td>4</td><td>4</td><td>4</td><td>4</td><td>4</td></tr>\n",
       "\t<tr><th scope=row>32</th><td>5</td><td>5</td><td>5</td><td>4</td><td>5</td><td>5</td><td>4</td></tr>\n",
       "\t<tr><th scope=row>33</th><td>2</td><td>4</td><td>4</td><td>4</td><td>4</td><td>4</td><td>4</td></tr>\n",
       "\t<tr><th scope=row>34</th><td>4</td><td>5</td><td>5</td><td>4</td><td>4</td><td>4</td><td>5</td></tr>\n",
       "\t<tr><th scope=row>35</th><td>4</td><td>5</td><td>5</td><td>5</td><td>5</td><td>5</td><td>5</td></tr>\n",
       "\t<tr><th scope=row>36</th><td>5</td><td>4</td><td>4</td><td>5</td><td>4</td><td>4</td><td>4</td></tr>\n",
       "\t<tr><th scope=row>37</th><td>4</td><td>5</td><td>5</td><td>5</td><td>5</td><td>5</td><td>5</td></tr>\n",
       "\t<tr><th scope=row>38</th><td>4</td><td>4</td><td>4</td><td>4</td><td>4</td><td>4</td><td>4</td></tr>\n",
       "\t<tr><th scope=row>39</th><td>3</td><td>4</td><td>3</td><td>3</td><td>3</td><td>4</td><td>4</td></tr>\n",
       "\t<tr><th scope=row>40</th><td>3</td><td>4</td><td>4</td><td>5</td><td>4</td><td>5</td><td>4</td></tr>\n",
       "\t<tr><th scope=row>41</th><td>3</td><td>3</td><td>3</td><td>3</td><td>3</td><td>3</td><td>3</td></tr>\n",
       "\t<tr><th scope=row>42</th><td>3</td><td>3</td><td>3</td><td>3</td><td>3</td><td>3</td><td>3</td></tr>\n",
       "\t<tr><th scope=row>43</th><td>3</td><td>4</td><td>4</td><td>4</td><td>4</td><td>4</td><td>4</td></tr>\n",
       "\t<tr><th scope=row>44</th><td>4</td><td>4</td><td>4</td><td>4</td><td>4</td><td>4</td><td>4</td></tr>\n",
       "\t<tr><th scope=row>45</th><td>2</td><td>3</td><td>3</td><td>3</td><td>3</td><td>3</td><td>3</td></tr>\n",
       "\t<tr><th scope=row>46</th><td>3</td><td>4</td><td>3</td><td>3</td><td>3</td><td>3</td><td>3</td></tr>\n",
       "\t<tr><th scope=row>47</th><td>2</td><td>3</td><td>3</td><td>3</td><td>2</td><td>3</td><td>2</td></tr>\n",
       "\t<tr><th scope=row>48</th><td>3</td><td>4</td><td>4</td><td>4</td><td>2</td><td>4</td><td>4</td></tr>\n",
       "\t<tr><th scope=row>49</th><td>5</td><td>4</td><td>4</td><td>4</td><td>4</td><td>4</td><td>4</td></tr>\n",
       "\t<tr><th scope=row>50</th><td>4</td><td>4</td><td>4</td><td>4</td><td>3</td><td>4</td><td>5</td></tr>\n",
       "\t<tr><th scope=row>51</th><td>1</td><td>5</td><td>5</td><td>4</td><td>3</td><td>5</td><td>4</td></tr>\n",
       "\t<tr><th scope=row>52</th><td>4</td><td>5</td><td>5</td><td>5</td><td>4</td><td>4</td><td>4</td></tr>\n",
       "\t<tr><th scope=row>53</th><td>5</td><td>4</td><td>4</td><td>4</td><td>3</td><td>4</td><td>4</td></tr>\n",
       "\t<tr><th scope=row>54</th><td>4</td><td>4</td><td>4</td><td>4</td><td>4</td><td>5</td><td>5</td></tr>\n",
       "\t<tr><th scope=row>55</th><td>4</td><td>4</td><td>4</td><td>4</td><td>4</td><td>4</td><td>4</td></tr>\n",
       "\t<tr><th scope=row>56</th><td>5</td><td>4</td><td>4</td><td>4</td><td>3</td><td>4</td><td>4</td></tr>\n",
       "\t<tr><th scope=row>57</th><td>4</td><td>4</td><td>4</td><td>4</td><td>4</td><td>4</td><td>4</td></tr>\n",
       "\t<tr><th scope=row>58</th><td>4</td><td>4</td><td>4</td><td>4</td><td>4</td><td>4</td><td>4</td></tr>\n",
       "\t<tr><th scope=row>59</th><td>5</td><td>4</td><td>4</td><td>4</td><td>4</td><td>4</td><td>5</td></tr>\n",
       "\t<tr><th scope=row>60</th><td>4</td><td>4</td><td>4</td><td>4</td><td>4</td><td>4</td><td>4</td></tr>\n",
       "</tbody>\n",
       "</table>\n"
      ],
      "text/latex": [
       "\\begin{tabular}{r|lllllll}\n",
       "  & RRO & TampilanO & MenuO & PackagingO & WifiO & PembayaranO & PelayananO\\\\\n",
       "\\hline\n",
       "\t1 & 3 & 4 & 4 & 4 & 4 & 4 & 4\\\\\n",
       "\t2 & 3 & 4 & 4 & 4 & 3 & 4 & 4\\\\\n",
       "\t3 & 5 & 5 & 5 & 5 & 5 & 5 & 5\\\\\n",
       "\t4 & 4 & 4 & 4 & 3 & 3 & 3 & 4\\\\\n",
       "\t5 & 5 & 4 & 4 & 4 & 4 & 3 & 5\\\\\n",
       "\t6 & 4 & 4 & 4 & 4 & 4 & 4 & 4\\\\\n",
       "\t7 & 3 & 4 & 4 & 4 & 4 & 4 & 4\\\\\n",
       "\t8 & 3 & 4 & 4 & 4 & 4 & 4 & 4\\\\\n",
       "\t9 & 3 & 4 & 4 & 4 & 3 & 4 & 4\\\\\n",
       "\t10 & 3 & 4 & 4 & 4 & 3 & 4 & 4\\\\\n",
       "\t11 & 5 & 4 & 5 & 5 & 3 & 4 & 5\\\\\n",
       "\t12 & 4 & 4 & 4 & 4 & 4 & 4 & 4\\\\\n",
       "\t13 & 3 & 5 & 5 & 4 & 4 & 5 & 5\\\\\n",
       "\t14 & 3 & 5 & 4 & 4 & 4 & 4 & 4\\\\\n",
       "\t15 & 4 & 4 & 4 & 4 & 4 & 4 & 4\\\\\n",
       "\t16 & 4 & 1 & 1 & 1 & 4 & 4 & 4\\\\\n",
       "\t17 & 3 & 4 & 4 & 4 & 4 & 4 & 4\\\\\n",
       "\t18 & 3 & 4 & 4 & 5 & 3 & 5 & 4\\\\\n",
       "\t19 & 4 & 4 & 4 & 4 & 2 & 2 & 4\\\\\n",
       "\t20 & 2 & 5 & 5 & 4 & 4 & 3 & 4\\\\\n",
       "\t21 & 3 & 4 & 4 & 4 & 4 & 4 & 4\\\\\n",
       "\t22 & 4 & 4 & 4 & 4 & 4 & 5 & 3\\\\\n",
       "\t23 & 3 & 4 & 4 & 4 & 3 & 4 & 4\\\\\n",
       "\t24 & 3 & 4 & 4 & 3 & 3 & 4 & 4\\\\\n",
       "\t25 & 4 & 4 & 4 & 4 & 4 & 4 & 4\\\\\n",
       "\t26 & 3 & 4 & 4 & 4 & 4 & 4 & 4\\\\\n",
       "\t27 & 3 & 2 & 2 & 4 & 4 & 4 & 4\\\\\n",
       "\t28 & 3 & 3 & 4 & 5 & 3 & 4 & 4\\\\\n",
       "\t29 & 2 & 4 & 4 & 4 & 2 & 2 & 4\\\\\n",
       "\t30 & 2 & 4 & 4 & 4 & 4 & 4 & 5\\\\\n",
       "\t31 & 4 & 4 & 4 & 4 & 4 & 4 & 4\\\\\n",
       "\t32 & 5 & 5 & 5 & 4 & 5 & 5 & 4\\\\\n",
       "\t33 & 2 & 4 & 4 & 4 & 4 & 4 & 4\\\\\n",
       "\t34 & 4 & 5 & 5 & 4 & 4 & 4 & 5\\\\\n",
       "\t35 & 4 & 5 & 5 & 5 & 5 & 5 & 5\\\\\n",
       "\t36 & 5 & 4 & 4 & 5 & 4 & 4 & 4\\\\\n",
       "\t37 & 4 & 5 & 5 & 5 & 5 & 5 & 5\\\\\n",
       "\t38 & 4 & 4 & 4 & 4 & 4 & 4 & 4\\\\\n",
       "\t39 & 3 & 4 & 3 & 3 & 3 & 4 & 4\\\\\n",
       "\t40 & 3 & 4 & 4 & 5 & 4 & 5 & 4\\\\\n",
       "\t41 & 3 & 3 & 3 & 3 & 3 & 3 & 3\\\\\n",
       "\t42 & 3 & 3 & 3 & 3 & 3 & 3 & 3\\\\\n",
       "\t43 & 3 & 4 & 4 & 4 & 4 & 4 & 4\\\\\n",
       "\t44 & 4 & 4 & 4 & 4 & 4 & 4 & 4\\\\\n",
       "\t45 & 2 & 3 & 3 & 3 & 3 & 3 & 3\\\\\n",
       "\t46 & 3 & 4 & 3 & 3 & 3 & 3 & 3\\\\\n",
       "\t47 & 2 & 3 & 3 & 3 & 2 & 3 & 2\\\\\n",
       "\t48 & 3 & 4 & 4 & 4 & 2 & 4 & 4\\\\\n",
       "\t49 & 5 & 4 & 4 & 4 & 4 & 4 & 4\\\\\n",
       "\t50 & 4 & 4 & 4 & 4 & 3 & 4 & 5\\\\\n",
       "\t51 & 1 & 5 & 5 & 4 & 3 & 5 & 4\\\\\n",
       "\t52 & 4 & 5 & 5 & 5 & 4 & 4 & 4\\\\\n",
       "\t53 & 5 & 4 & 4 & 4 & 3 & 4 & 4\\\\\n",
       "\t54 & 4 & 4 & 4 & 4 & 4 & 5 & 5\\\\\n",
       "\t55 & 4 & 4 & 4 & 4 & 4 & 4 & 4\\\\\n",
       "\t56 & 5 & 4 & 4 & 4 & 3 & 4 & 4\\\\\n",
       "\t57 & 4 & 4 & 4 & 4 & 4 & 4 & 4\\\\\n",
       "\t58 & 4 & 4 & 4 & 4 & 4 & 4 & 4\\\\\n",
       "\t59 & 5 & 4 & 4 & 4 & 4 & 4 & 5\\\\\n",
       "\t60 & 4 & 4 & 4 & 4 & 4 & 4 & 4\\\\\n",
       "\\end{tabular}\n"
      ],
      "text/plain": [
       "   RRO TampilanO MenuO PackagingO WifiO PembayaranO PelayananO\n",
       "1    3         4     4          4     4           4          4\n",
       "2    3         4     4          4     3           4          4\n",
       "3    5         5     5          5     5           5          5\n",
       "4    4         4     4          3     3           3          4\n",
       "5    5         4     4          4     4           3          5\n",
       "6    4         4     4          4     4           4          4\n",
       "7    3         4     4          4     4           4          4\n",
       "8    3         4     4          4     4           4          4\n",
       "9    3         4     4          4     3           4          4\n",
       "10   3         4     4          4     3           4          4\n",
       "11   5         4     5          5     3           4          5\n",
       "12   4         4     4          4     4           4          4\n",
       "13   3         5     5          4     4           5          5\n",
       "14   3         5     4          4     4           4          4\n",
       "15   4         4     4          4     4           4          4\n",
       "16   4         1     1          1     4           4          4\n",
       "17   3         4     4          4     4           4          4\n",
       "18   3         4     4          5     3           5          4\n",
       "19   4         4     4          4     2           2          4\n",
       "20   2         5     5          4     4           3          4\n",
       "21   3         4     4          4     4           4          4\n",
       "22   4         4     4          4     4           5          3\n",
       "23   3         4     4          4     3           4          4\n",
       "24   3         4     4          3     3           4          4\n",
       "25   4         4     4          4     4           4          4\n",
       "26   3         4     4          4     4           4          4\n",
       "27   3         2     2          4     4           4          4\n",
       "28   3         3     4          5     3           4          4\n",
       "29   2         4     4          4     2           2          4\n",
       "30   2         4     4          4     4           4          5\n",
       "31   4         4     4          4     4           4          4\n",
       "32   5         5     5          4     5           5          4\n",
       "33   2         4     4          4     4           4          4\n",
       "34   4         5     5          4     4           4          5\n",
       "35   4         5     5          5     5           5          5\n",
       "36   5         4     4          5     4           4          4\n",
       "37   4         5     5          5     5           5          5\n",
       "38   4         4     4          4     4           4          4\n",
       "39   3         4     3          3     3           4          4\n",
       "40   3         4     4          5     4           5          4\n",
       "41   3         3     3          3     3           3          3\n",
       "42   3         3     3          3     3           3          3\n",
       "43   3         4     4          4     4           4          4\n",
       "44   4         4     4          4     4           4          4\n",
       "45   2         3     3          3     3           3          3\n",
       "46   3         4     3          3     3           3          3\n",
       "47   2         3     3          3     2           3          2\n",
       "48   3         4     4          4     2           4          4\n",
       "49   5         4     4          4     4           4          4\n",
       "50   4         4     4          4     3           4          5\n",
       "51   1         5     5          4     3           5          4\n",
       "52   4         5     5          5     4           4          4\n",
       "53   5         4     4          4     3           4          4\n",
       "54   4         4     4          4     4           5          5\n",
       "55   4         4     4          4     4           4          4\n",
       "56   5         4     4          4     3           4          4\n",
       "57   4         4     4          4     4           4          4\n",
       "58   4         4     4          4     4           4          4\n",
       "59   5         4     4          4     4           4          5\n",
       "60   4         4     4          4     4           4          4"
      ]
     },
     "execution_count": 29,
     "metadata": {},
     "output_type": "execute_result"
    }
   ],
   "source": [
    "DataOutback <-read.csv(\"Outback.csv\", header=TRUE, sep=\",\") \n",
    "DataOutback"
   ]
  },
  {
   "cell_type": "markdown",
   "metadata": {},
   "source": [
    "# Summary Data Outback\n",
    "## Nilai Mean dari data lebih besar dari nilai 3, atau RG"
   ]
  },
  {
   "cell_type": "code",
   "execution_count": 30,
   "metadata": {
    "collapsed": false
   },
   "outputs": [
    {
     "data": {
      "text/plain": [
       "      RRO          TampilanO     MenuO         PackagingO        WifiO      \n",
       " Min.   :1.000   Min.   :1   Min.   :1.000   Min.   :1.000   Min.   :2.000  \n",
       " 1st Qu.:3.000   1st Qu.:4   1st Qu.:4.000   1st Qu.:4.000   1st Qu.:3.000  \n",
       " Median :3.500   Median :4   Median :4.000   Median :4.000   Median :4.000  \n",
       " Mean   :3.517   Mean   :4   Mean   :3.983   Mean   :3.967   Mean   :3.633  \n",
       " 3rd Qu.:4.000   3rd Qu.:4   3rd Qu.:4.000   3rd Qu.:4.000   3rd Qu.:4.000  \n",
       " Max.   :5.000   Max.   :5   Max.   :5.000   Max.   :5.000   Max.   :5.000  \n",
       "  PembayaranO      PelayananO   \n",
       " Min.   :2.000   Min.   :2.000  \n",
       " 1st Qu.:4.000   1st Qu.:4.000  \n",
       " Median :4.000   Median :4.000  \n",
       " Mean   :3.967   Mean   :4.067  \n",
       " 3rd Qu.:4.000   3rd Qu.:4.000  \n",
       " Max.   :5.000   Max.   :5.000  "
      ]
     },
     "execution_count": 30,
     "metadata": {},
     "output_type": "execute_result"
    }
   ],
   "source": [
    "summary(DataOutback)"
   ]
  },
  {
   "cell_type": "markdown",
   "metadata": {},
   "source": [
    "# Korelasi:\n",
    "\n",
    "## Korelasi terbesar dengan Tingkat Kembali Konsumen (Retention Rate) adalah Wifi dan Pelayanan"
   ]
  },
  {
   "cell_type": "code",
   "execution_count": 31,
   "metadata": {
    "collapsed": false
   },
   "outputs": [
    {
     "data": {
      "text/html": [
       "<table>\n",
       "<thead><tr><th></th><th scope=col>RRO</th><th scope=col>TampilanO</th><th scope=col>MenuO</th><th scope=col>PackagingO</th><th scope=col>WifiO</th><th scope=col>PembayaranO</th><th scope=col>PelayananO</th></tr></thead>\n",
       "<tbody>\n",
       "\t<tr><th scope=row>RRO</th><td>1.0000000</td><td>0.1058685</td><td>0.1695264</td><td>0.2209289</td><td>0.3677599</td><td>0.1934274</td><td>0.3762248</td></tr>\n",
       "\t<tr><th scope=row>TampilanO</th><td>0.1058685</td><td>1.0000000</td><td>0.9126834</td><td>0.5937612</td><td>0.3108751</td><td>0.3339907</td><td>0.4254228</td></tr>\n",
       "\t<tr><th scope=row>MenuO</th><td>0.1695264</td><td>0.9126834</td><td>1.0000000</td><td>0.7282865</td><td>0.2931074</td><td>0.3635353</td><td>0.5045601</td></tr>\n",
       "\t<tr><th scope=row>PackagingO</th><td>0.2209289</td><td>0.5937612</td><td>0.7282865</td><td>1.0000000</td><td>0.2967042</td><td>0.4215938</td><td>0.4479432</td></tr>\n",
       "\t<tr><th scope=row>WifiO</th><td>0.3677599</td><td>0.3108751</td><td>0.2931074</td><td>0.2967042</td><td>1.0000000</td><td>0.5838373</td><td>0.4306561</td></tr>\n",
       "\t<tr><th scope=row>PembayaranO</th><td>0.1934274</td><td>0.3339907</td><td>0.3635353</td><td>0.4215938</td><td>0.5838373</td><td>1.0000000</td><td>0.4037383</td></tr>\n",
       "\t<tr><th scope=row>PelayananO</th><td>0.3762248</td><td>0.4254228</td><td>0.5045601</td><td>0.4479432</td><td>0.4306561</td><td>0.4037383</td><td>1.0000000</td></tr>\n",
       "</tbody>\n",
       "</table>\n"
      ],
      "text/latex": [
       "\\begin{tabular}{r|lllllll}\n",
       "  & RRO & TampilanO & MenuO & PackagingO & WifiO & PembayaranO & PelayananO\\\\\n",
       "\\hline\n",
       "\tRRO & 1.0000000 & 0.1058685 & 0.1695264 & 0.2209289 & 0.3677599 & 0.1934274 & 0.3762248\\\\\n",
       "\tTampilanO & 0.1058685 & 1.0000000 & 0.9126834 & 0.5937612 & 0.3108751 & 0.3339907 & 0.4254228\\\\\n",
       "\tMenuO & 0.1695264 & 0.9126834 & 1.0000000 & 0.7282865 & 0.2931074 & 0.3635353 & 0.5045601\\\\\n",
       "\tPackagingO & 0.2209289 & 0.5937612 & 0.7282865 & 1.0000000 & 0.2967042 & 0.4215938 & 0.4479432\\\\\n",
       "\tWifiO & 0.3677599 & 0.3108751 & 0.2931074 & 0.2967042 & 1.0000000 & 0.5838373 & 0.4306561\\\\\n",
       "\tPembayaranO & 0.1934274 & 0.3339907 & 0.3635353 & 0.4215938 & 0.5838373 & 1.0000000 & 0.4037383\\\\\n",
       "\tPelayananO & 0.3762248 & 0.4254228 & 0.5045601 & 0.4479432 & 0.4306561 & 0.4037383 & 1.0000000\\\\\n",
       "\\end{tabular}\n"
      ],
      "text/markdown": [
       "1. 1\n",
       "2. 0.105868524997117\n",
       "3. 0.169526356399533\n",
       "4. 0.220928886366519\n",
       "5. 0.367759890275633\n",
       "6. 0.193427365242056\n",
       "7. 0.376224810936666\n",
       "8. 0.105868524997117\n",
       "9. 1\n",
       "10. 0.912683431293131\n",
       "11. 0.593761174199509\n",
       "12. 0.310875110605354\n",
       "13. 0.333990660487224\n",
       "14. 0.425422796738205\n",
       "15. 0.169526356399533\n",
       "16. 0.912683431293131\n",
       "17. 1\n",
       "18. 0.728286451479081\n",
       "19. 0.29310741315449\n",
       "20. 0.363535307165685\n",
       "21. 0.504560123169842\n",
       "22. 0.220928886366519\n",
       "23. 0.593761174199509\n",
       "24. 0.728286451479081\n",
       "25. 1\n",
       "26. 0.296704213647621\n",
       "27. 0.42159383033419\n",
       "28. 0.447943183065261\n",
       "29. 0.367759890275633\n",
       "30. 0.310875110605354\n",
       "31. 0.29310741315449\n",
       "32. 0.296704213647621\n",
       "33. 1\n",
       "34. 0.58383732362919\n",
       "35. 0.430656123051974\n",
       "36. 0.193427365242056\n",
       "37. 0.333990660487224\n",
       "38. 0.363535307165685\n",
       "39. 0.42159383033419\n",
       "40. 0.58383732362919\n",
       "41. 1\n",
       "42. 0.403738263683821\n",
       "43. 0.376224810936666\n",
       "44. 0.425422796738205\n",
       "45. 0.504560123169842\n",
       "46. 0.447943183065261\n",
       "47. 0.430656123051974\n",
       "48. 0.403738263683821\n",
       "49. 1\n",
       "\n",
       "\n"
      ],
      "text/plain": [
       "                  RRO TampilanO     MenuO PackagingO     WifiO PembayaranO\n",
       "RRO         1.0000000 0.1058685 0.1695264  0.2209289 0.3677599   0.1934274\n",
       "TampilanO   0.1058685 1.0000000 0.9126834  0.5937612 0.3108751   0.3339907\n",
       "MenuO       0.1695264 0.9126834 1.0000000  0.7282865 0.2931074   0.3635353\n",
       "PackagingO  0.2209289 0.5937612 0.7282865  1.0000000 0.2967042   0.4215938\n",
       "WifiO       0.3677599 0.3108751 0.2931074  0.2967042 1.0000000   0.5838373\n",
       "PembayaranO 0.1934274 0.3339907 0.3635353  0.4215938 0.5838373   1.0000000\n",
       "PelayananO  0.3762248 0.4254228 0.5045601  0.4479432 0.4306561   0.4037383\n",
       "            PelayananO\n",
       "RRO          0.3762248\n",
       "TampilanO    0.4254228\n",
       "MenuO        0.5045601\n",
       "PackagingO   0.4479432\n",
       "WifiO        0.4306561\n",
       "PembayaranO  0.4037383\n",
       "PelayananO   1.0000000"
      ]
     },
     "execution_count": 31,
     "metadata": {},
     "output_type": "execute_result"
    }
   ],
   "source": [
    "cor(DataOutback)"
   ]
  },
  {
   "cell_type": "markdown",
   "metadata": {},
   "source": [
    "# 1. Hubungan Tampilan Interior dengan Retention Rate\n",
    "## Hubungan positif namun tidak signifikan"
   ]
  },
  {
   "cell_type": "code",
   "execution_count": 32,
   "metadata": {
    "collapsed": false
   },
   "outputs": [],
   "source": [
    "# qplot(DataOutback,\n",
    "#       x = DataOutback$RRO,\n",
    "#       y = DataOutback$TampilanO,\n",
    "#       position = position_jitter(w = 0.1, h = 0.1),\n",
    "#       xlab = \"Retention Rate Outback\",\n",
    "#       ylab = \"Tampilan Interior Outback\",\n",
    "#       main = \"Hubungan Tampilan Interior dengan Retention Rate\")\n"
   ]
  },
  {
   "cell_type": "markdown",
   "metadata": {},
   "source": [
    "![Co](a.png \"Correlastion vs Causation\") "
   ]
  },
  {
   "cell_type": "markdown",
   "metadata": {},
   "source": [
    "## Gambar di atas dimodifikasi agar tidak bertumpuk, gambar di bawah adalah gambar hubungan asli Retention Rate dengan Tampilan"
   ]
  },
  {
   "cell_type": "code",
   "execution_count": 33,
   "metadata": {
    "collapsed": false,
    "scrolled": true
   },
   "outputs": [],
   "source": [
    "# qplot(x = RRO,\n",
    "#       TampilanO,\n",
    "#       data = DataOutback,\n",
    "#       geom = c(\"point\", \"smooth\"),\n",
    "#       method = \"lm\",\n",
    "#       xlab = \"Retention Rate Outback\",\n",
    "#       ylab = \"Tampilan Interior Outback\",\n",
    "#       main = \"Hubungan Tampilan Interior dengan Retention Rate\",\n",
    "#       formula = y ~ x)"
   ]
  },
  {
   "cell_type": "markdown",
   "metadata": {},
   "source": [
    "![Co](b.png \"Correlastion vs Causation\") "
   ]
  },
  {
   "cell_type": "markdown",
   "metadata": {},
   "source": [
    "## Hasil Regresi Retention Rate dengan Tampilan:\n",
    "### * Tampilan tidak signifikan mempengaruhi Retention Rate\n",
    "###  * Tidak signifikan ditunjujan dengan nilai p-value 0.42 pada hasil dibawah"
   ]
  },
  {
   "cell_type": "code",
   "execution_count": 34,
   "metadata": {
    "collapsed": false
   },
   "outputs": [
    {
     "data": {
      "text/plain": [
       "\n",
       "Call:\n",
       "lm(formula = RRO ~ TampilanO, data = DataOutback)\n",
       "\n",
       "Residuals:\n",
       "     Min       1Q   Median       3Q      Max \n",
       "-2.65952 -0.51667  0.05476  0.48333  1.48333 \n",
       "\n",
       "Coefficients:\n",
       "            Estimate Std. Error t value Pr(>|t|)    \n",
       "(Intercept)   2.9452     0.7150   4.119 0.000122 ***\n",
       "TampilanO     0.1429     0.1762   0.811 0.420780    \n",
       "---\n",
       "Signif. codes:  0 ‘***’ 0.001 ‘**’ 0.01 ‘*’ 0.05 ‘.’ 0.1 ‘ ’ 1\n",
       "\n",
       "Residual standard error: 0.9323 on 58 degrees of freedom\n",
       "Multiple R-squared:  0.01121,\tAdjusted R-squared:  -0.00584 \n",
       "F-statistic: 0.6574 on 1 and 58 DF,  p-value: 0.4208\n"
      ]
     },
     "execution_count": 34,
     "metadata": {},
     "output_type": "execute_result"
    }
   ],
   "source": [
    "regression_RRO_TampilanO = lm(RRO ~ TampilanO, data = DataOutback)\n",
    "summary(regression_RRO_TampilanO)"
   ]
  },
  {
   "cell_type": "markdown",
   "metadata": {},
   "source": [
    "# 2. Hubungan Tampilan Menu dengan Retention Rate\n",
    "## Hubungan positif namun tidak signifikan"
   ]
  },
  {
   "cell_type": "code",
   "execution_count": 35,
   "metadata": {
    "collapsed": false
   },
   "outputs": [],
   "source": [
    "# qplot(x = RRO,\n",
    "#       y = MenuO,\n",
    "#       data = DataOutback,\n",
    "#       geom = c(\"point\"),\n",
    "#       position = position_jitter(w = 0.1, h = 0.1),\n",
    "#       method = \"lm\",\n",
    "#       xlab = \"Retention Rate Outback\",\n",
    "#       ylab = \"Menu Outback\",\n",
    "#       main = \"Hubungan Tampilan Menu dengan Retention Rate\",\n",
    "#       formula = y ~ x)"
   ]
  },
  {
   "cell_type": "markdown",
   "metadata": {},
   "source": [
    "![Co](c.png \"Correlastion vs Causation\") "
   ]
  },
  {
   "cell_type": "code",
   "execution_count": 36,
   "metadata": {
    "collapsed": false
   },
   "outputs": [],
   "source": [
    "# qplot(x = RRO,\n",
    "#       y = MenuO,\n",
    "#       data = DataOutback,\n",
    "#       geom = c(\"point\", \"smooth\"),\n",
    "#       method = \"lm\",\n",
    "#       xlab = \"Retention Rate Outback\",\n",
    "#       ylab = \"Menu Outback\",\n",
    "#       main = \"Hubungan Tampilan Menu dengan Retention Rate\",\n",
    "#       formula = y ~ x)"
   ]
  },
  {
   "cell_type": "markdown",
   "metadata": {},
   "source": [
    "![Co](d.png \"Correlastion vs Causation\") "
   ]
  },
  {
   "cell_type": "markdown",
   "metadata": {},
   "source": [
    "## Hasil Regresi Retention Rate dengan Tampilan Menu:\n",
    "### * Tampilan tidak signifikan mempengaruhi Retention Rate\n",
    "###  * Tidak signifikan ditunjujan dengan nilai p-value 0.19 pada hasil dibawah"
   ]
  },
  {
   "cell_type": "code",
   "execution_count": 37,
   "metadata": {
    "collapsed": false
   },
   "outputs": [
    {
     "data": {
      "text/plain": [
       "\n",
       "Call:\n",
       "lm(formula = RRO ~ MenuO, data = DataOutback)\n",
       "\n",
       "Residuals:\n",
       "     Min       1Q   Median       3Q      Max \n",
       "-2.74526 -0.52041  0.09201  0.47959  1.47959 \n",
       "\n",
       "Coefficients:\n",
       "            Estimate Std. Error t value Pr(>|t|)    \n",
       "(Intercept)   2.6210     0.6940   3.777 0.000376 ***\n",
       "MenuO         0.2248     0.1716   1.310 0.195349    \n",
       "---\n",
       "Signif. codes:  0 ‘***’ 0.001 ‘**’ 0.01 ‘*’ 0.05 ‘.’ 0.1 ‘ ’ 1\n",
       "\n",
       "Residual standard error: 0.924 on 58 degrees of freedom\n",
       "Multiple R-squared:  0.02874,\tAdjusted R-squared:  0.01199 \n",
       "F-statistic: 1.716 on 1 and 58 DF,  p-value: 0.1953\n"
      ]
     },
     "execution_count": 37,
     "metadata": {},
     "output_type": "execute_result"
    }
   ],
   "source": [
    "regression_RRO_MenuO = lm(RRO ~ MenuO, data = DataOutback)\n",
    "summary(regression_RRO_MenuO)"
   ]
  },
  {
   "cell_type": "markdown",
   "metadata": {},
   "source": [
    "# 3. Hubungan Tampilan Packaging dengan Retention Rate\n",
    "## Hubungan positif  signifikan"
   ]
  },
  {
   "cell_type": "code",
   "execution_count": 38,
   "metadata": {
    "collapsed": false
   },
   "outputs": [],
   "source": [
    "# qplot(x = RRO,\n",
    "#       y = PackagingO,\n",
    "#       data = DataOutback,\n",
    "#       geom = c(\"point\"),\n",
    "#       position = position_jitter(w = 0.1, h = 0.1),\n",
    "#       xlab = \"Retention Rate Outback\",\n",
    "#       ylab = \"Packaging Outback\",\n",
    "#       main = \"Hubungan Tampilan Packaging dengan Retention Rate\",\n",
    "#       formula = y ~ x)"
   ]
  },
  {
   "cell_type": "markdown",
   "metadata": {},
   "source": [
    "![Co](e.png \"Correlastion vs Causation\") "
   ]
  },
  {
   "cell_type": "code",
   "execution_count": 39,
   "metadata": {
    "collapsed": false
   },
   "outputs": [],
   "source": [
    "# qplot(x = RRO,\n",
    "#       y = PackagingO,\n",
    "#       data = DataOutback,\n",
    "#       geom = c(\"point\", \"smooth\"),\n",
    "#       method = \"lm\",\n",
    "#       xlab = \"Retention Rate Outback\",\n",
    "#       ylab = \"Packaging Outback\",\n",
    "#       main = \"Hubungan Tampilan Packaging Makanan dengan Retention Rate\",\n",
    "#       formula = y ~ x)"
   ]
  },
  {
   "cell_type": "markdown",
   "metadata": {},
   "source": [
    "![Co](f.png \"Correlastion vs Causation\") "
   ]
  },
  {
   "cell_type": "markdown",
   "metadata": {},
   "source": [
    "## Hasil Regresi Retention Rate dengan Packaging:\n",
    "### * Packaging signifikan mempengaruhi Retention Rate pada alpha 10%\n",
    "###  * Signifikansi ditunjukan dengan nilai p-value 0.089 pada hasil di bawah"
   ]
  },
  {
   "cell_type": "code",
   "execution_count": 40,
   "metadata": {
    "collapsed": false
   },
   "outputs": [
    {
     "data": {
      "text/plain": [
       "\n",
       "Call:\n",
       "lm(formula = RRO ~ PackagingO, data = DataOutback)\n",
       "\n",
       "Residuals:\n",
       "     Min       1Q   Median       3Q      Max \n",
       "-2.52699 -0.52699 -0.02699  0.47301  1.47301 \n",
       "\n",
       "Coefficients:\n",
       "            Estimate Std. Error t value Pr(>|t|)   \n",
       "(Intercept)   2.2879     0.7220   3.169  0.00244 **\n",
       "PackagingO    0.3098     0.1796   1.725  0.08982 . \n",
       "---\n",
       "Signif. codes:  0 ‘***’ 0.001 ‘**’ 0.01 ‘*’ 0.05 ‘.’ 0.1 ‘ ’ 1\n",
       "\n",
       "Residual standard error: 0.9144 on 58 degrees of freedom\n",
       "Multiple R-squared:  0.04881,\tAdjusted R-squared:  0.03241 \n",
       "F-statistic: 2.976 on 1 and 58 DF,  p-value: 0.08982\n"
      ]
     },
     "execution_count": 40,
     "metadata": {},
     "output_type": "execute_result"
    }
   ],
   "source": [
    "regression_RRO_MenuO = lm(RRO ~ PackagingO, data = DataOutback)\n",
    "summary(regression_RRO_MenuO)"
   ]
  },
  {
   "cell_type": "markdown",
   "metadata": {},
   "source": [
    "# 4. Hubungan Wifi dengan Retention Rate\n",
    "## Hubungan positif  signifikan"
   ]
  },
  {
   "cell_type": "code",
   "execution_count": 41,
   "metadata": {
    "collapsed": false
   },
   "outputs": [],
   "source": [
    "# qplot(x = RRO,\n",
    "#       y = WifiO,\n",
    "#       data = DataOutback,\n",
    "#       geom = c(\"point\"),\n",
    "#       position = position_jitter(w = 0.1, h = 0.1),\n",
    "#       xlab = \"Retention Rate Outback\",\n",
    "#       ylab = \"Wifi Outback\",\n",
    "#       main = \"Hubungan Wifi dengan Retention Rate pada Outback\",\n",
    "#       formula = y ~ x)\n"
   ]
  },
  {
   "cell_type": "markdown",
   "metadata": {},
   "source": [
    "![Co](g.png \"Correlastion vs Causation\") "
   ]
  },
  {
   "cell_type": "code",
   "execution_count": 42,
   "metadata": {
    "collapsed": false
   },
   "outputs": [],
   "source": [
    "# qplot(x = RRO,\n",
    "#       y = WifiO,\n",
    "#       data = DataOutback,\n",
    "#       geom = c(\"point\", \"smooth\"),\n",
    "#       method = \"lm\",\n",
    "#       xlab = \"Retention Rate Outback\",\n",
    "#       ylab = \"Wifi Outback\",\n",
    "#       main = \"Hubungan Wifi dengan Retention Rate\",\n",
    "#       formula = y ~ x)\n",
    "\n"
   ]
  },
  {
   "cell_type": "markdown",
   "metadata": {},
   "source": [
    "![Co](h.png \"Correlastion vs Causation\") "
   ]
  },
  {
   "cell_type": "markdown",
   "metadata": {},
   "source": [
    "## Hasil Regresi Retention Rate dengan Wifi:\n",
    "### * Wifi  signifikan mempengaruhi Retention Rate pada alpha 1%\n",
    "###  * Signifikansi ditunjukan dengan nilai p-value 0.003 pada hasil di bawah"
   ]
  },
  {
   "cell_type": "code",
   "execution_count": 43,
   "metadata": {
    "collapsed": false
   },
   "outputs": [
    {
     "data": {
      "text/plain": [
       "\n",
       "Call:\n",
       "lm(formula = RRO ~ WifiO, data = DataOutback)\n",
       "\n",
       "Residuals:\n",
       "    Min      1Q  Median      3Q     Max \n",
       "-2.2127 -0.6926 -0.1726  0.3074  1.7873 \n",
       "\n",
       "Coefficients:\n",
       "            Estimate Std. Error t value Pr(>|t|)   \n",
       "(Intercept)   1.7728     0.5898   3.006  0.00391 **\n",
       "WifiO         0.4800     0.1594   3.012  0.00384 **\n",
       "---\n",
       "Signif. codes:  0 ‘***’ 0.001 ‘**’ 0.01 ‘*’ 0.05 ‘.’ 0.1 ‘ ’ 1\n",
       "\n",
       "Residual standard error: 0.8719 on 58 degrees of freedom\n",
       "Multiple R-squared:  0.1352,\tAdjusted R-squared:  0.1203 \n",
       "F-statistic: 9.071 on 1 and 58 DF,  p-value: 0.003843\n"
      ]
     },
     "execution_count": 43,
     "metadata": {},
     "output_type": "execute_result"
    }
   ],
   "source": [
    "regression_RRO_wifiO = lm(RRO ~ WifiO, data = DataOutback)\n",
    "summary(regression_RRO_wifiO)\n"
   ]
  },
  {
   "cell_type": "markdown",
   "metadata": {},
   "source": [
    "# 5. Hubungan Pembayaran dengan Retention Rate\n",
    "## Hubungan positif tidak signifikan"
   ]
  },
  {
   "cell_type": "code",
   "execution_count": 44,
   "metadata": {
    "collapsed": false
   },
   "outputs": [],
   "source": [
    "# qplot(x = RRO,\n",
    "#       y = PembayaranO,\n",
    "#       data = DataOutback,\n",
    "#       geom = c(\"point\"),\n",
    "#       position = position_jitter(w = 0.1, h = 0.1),\n",
    "#       xlab = \"Retention Rate Outback\",\n",
    "#       ylab = \"Pembayaran Outback\",\n",
    "#       main = \"Hubungan Servis Permbayaran dengan Retention Rate pada Outback\",\n",
    "#       formula = y ~ x)\n",
    "\n"
   ]
  },
  {
   "cell_type": "markdown",
   "metadata": {},
   "source": [
    "![Co](i.png \"Correlastion vs Causation\") "
   ]
  },
  {
   "cell_type": "code",
   "execution_count": 45,
   "metadata": {
    "collapsed": false
   },
   "outputs": [],
   "source": [
    "# qplot(x = RRO,\n",
    "#       y = PembayaranO,\n",
    "#       data = DataOutback,\n",
    "#       geom = c(\"point\", \"smooth\"),\n",
    "#       method = \"lm\",\n",
    "#       xlab = \"Retention Rate Outback\",\n",
    "#       ylab = \"Service Pembayaran Outback\",\n",
    "#       main = \"Hubungan Tampilan Menu dengan Retention Rate\",\n",
    "#       formula = y ~ x)"
   ]
  },
  {
   "cell_type": "markdown",
   "metadata": {},
   "source": [
    "![Co](j.png \"Correlastion vs Causation\") "
   ]
  },
  {
   "cell_type": "markdown",
   "metadata": {},
   "source": [
    "## Hasil Regresi Retention Rate dengan Pembayaran:\n",
    "### * Wifi  tidak signifikan mempengaruhi Retention Rate pada alpha 10%\n",
    "###  * Tidak signifikannya variabel Pembayaran ditunjukan dengan nilai p-value 0.13 pada hasil di bawah"
   ]
  },
  {
   "cell_type": "code",
   "execution_count": 46,
   "metadata": {
    "collapsed": false,
    "scrolled": true
   },
   "outputs": [
    {
     "data": {
      "text/plain": [
       "\n",
       "Call:\n",
       "lm(formula = RRO ~ PembayaranO, data = DataOutback)\n",
       "\n",
       "Residuals:\n",
       "     Min       1Q   Median       3Q      Max \n",
       "-2.79692 -0.52571 -0.02571  0.47429  1.74550 \n",
       "\n",
       "Coefficients:\n",
       "            Estimate Std. Error t value Pr(>|t|)   \n",
       "(Intercept)   2.4409     0.7263   3.361  0.00138 **\n",
       "PembayaranO   0.2712     0.1806   1.501  0.13866   \n",
       "---\n",
       "Signif. codes:  0 ‘***’ 0.001 ‘**’ 0.01 ‘*’ 0.05 ‘.’ 0.1 ‘ ’ 1\n",
       "\n",
       "Residual standard error: 0.9199 on 58 degrees of freedom\n",
       "Multiple R-squared:  0.03741,\tAdjusted R-squared:  0.02082 \n",
       "F-statistic: 2.254 on 1 and 58 DF,  p-value: 0.1387\n"
      ]
     },
     "execution_count": 46,
     "metadata": {},
     "output_type": "execute_result"
    }
   ],
   "source": [
    "regression_RRO_PembayaranO = lm(RRO ~ PembayaranO, data = DataOutback)\n",
    "summary(regression_RRO_PembayaranO)"
   ]
  },
  {
   "cell_type": "markdown",
   "metadata": {},
   "source": [
    "# 6. Hubungan Pelayanan dengan Retention Rate\n",
    "## Hubungan positif signifikan"
   ]
  },
  {
   "cell_type": "code",
   "execution_count": 47,
   "metadata": {
    "collapsed": false
   },
   "outputs": [],
   "source": [
    "\n",
    "# qplot(x = RRO,\n",
    "#       y = PelayananO,\n",
    "#       data = DataOutback,\n",
    "#       geom = c(\"point\"),\n",
    "#       position = position_jitter(w = 0.1, h = 0.1),\n",
    "#       xlab = \"Retention Rate Outback\",\n",
    "#       ylab = \"Pelayanan Outback\",\n",
    "#       main = \"Hubungan Pelayanan dengan Retention Rate pada Outback\",\n",
    "#       formula = y ~ x)\n"
   ]
  },
  {
   "cell_type": "markdown",
   "metadata": {},
   "source": [
    "![Co](k.png \"Correlastion vs Causation\") "
   ]
  },
  {
   "cell_type": "code",
   "execution_count": 48,
   "metadata": {
    "collapsed": false
   },
   "outputs": [],
   "source": [
    "# qplot(x = RRO,\n",
    "#       y = PelayananO,\n",
    "#       data = DataOutback,\n",
    "#       geom = c(\"point\", \"smooth\"),\n",
    "#       method = \"lm\",\n",
    "#       xlab = \"Retention Rate Outback\",\n",
    "#       ylab = \"Pelayanan Outback\",\n",
    "#       main = \"Hubungan Pelayanan dengan Retention Rate\",\n",
    "#       formula = y ~ x)\n"
   ]
  },
  {
   "cell_type": "markdown",
   "metadata": {},
   "source": [
    "![Co](l.png \"Correlastion vs Causation\") "
   ]
  },
  {
   "cell_type": "markdown",
   "metadata": {},
   "source": [
    "## Hasil Regresi Retention Rate dengan Pembayaran:\n",
    "### * Pelayanan signifikan mempengaruhi Retention Rate pada alpha 10%\n",
    "###  * signifikannya variabel Pembayaran ditunjukan dengan nilai p-value 0.003 pada hasil di bawah"
   ]
  },
  {
   "cell_type": "code",
   "execution_count": 49,
   "metadata": {
    "collapsed": false,
    "scrolled": true
   },
   "outputs": [
    {
     "data": {
      "text/plain": [
       "\n",
       "Call:\n",
       "lm(formula = RRO ~ PelayananO, data = DataOutback)\n",
       "\n",
       "Residuals:\n",
       "     Min       1Q   Median       3Q      Max \n",
       "-2.47635 -0.47635 -0.08108  0.52365  1.52365 \n",
       "\n",
       "Coefficients:\n",
       "            Estimate Std. Error t value Pr(>|t|)   \n",
       "(Intercept)   1.0574     0.8031   1.317  0.19313   \n",
       "PelayananO    0.6047     0.1956   3.092  0.00305 **\n",
       "---\n",
       "Signif. codes:  0 ‘***’ 0.001 ‘**’ 0.01 ‘*’ 0.05 ‘.’ 0.1 ‘ ’ 1\n",
       "\n",
       "Residual standard error: 0.8687 on 58 degrees of freedom\n",
       "Multiple R-squared:  0.1415,\tAdjusted R-squared:  0.1267 \n",
       "F-statistic: 9.563 on 1 and 58 DF,  p-value: 0.00305\n"
      ]
     },
     "execution_count": 49,
     "metadata": {},
     "output_type": "execute_result"
    }
   ],
   "source": [
    "regression_RRO_PelayananO = lm(RRO ~ PelayananO, data = DataOutback)\n",
    "summary(regression_RRO_PelayananO)"
   ]
  },
  {
   "cell_type": "markdown",
   "metadata": {},
   "source": [
    "## Analissa: Bagaimana Hubungan Keseluruhan Variabel dengan Retention Rate pada Outback?\n",
    "## * Hanya Wifi yang signifikan"
   ]
  },
  {
   "cell_type": "code",
   "execution_count": 50,
   "metadata": {
    "collapsed": false
   },
   "outputs": [
    {
     "data": {
      "text/plain": [
       "\n",
       "Call:\n",
       "lm(formula = RRO ~ TampilanO + MenuO + PackagingO + WifiO + PembayaranO + \n",
       "    PelayananO, data = DataOutback)\n",
       "\n",
       "Residuals:\n",
       "     Min       1Q   Median       3Q      Max \n",
       "-2.09035 -0.64604  0.07318  0.35396  1.78024 \n",
       "\n",
       "Coefficients:\n",
       "            Estimate Std. Error t value Pr(>|t|)  \n",
       "(Intercept)   0.9161     0.9645   0.950   0.3465  \n",
       "TampilanO    -0.3720     0.4219  -0.882   0.3819  \n",
       "MenuO         0.2064     0.4934   0.418   0.6775  \n",
       "PackagingO    0.1389     0.2656   0.523   0.6030  \n",
       "WifiO         0.4263     0.2046   2.084   0.0420 *\n",
       "PembayaranO  -0.1615     0.2222  -0.727   0.4706  \n",
       "PelayananO    0.4443     0.2445   1.817   0.0748 .\n",
       "---\n",
       "Signif. codes:  0 ‘***’ 0.001 ‘**’ 0.01 ‘*’ 0.05 ‘.’ 0.1 ‘ ’ 1\n",
       "\n",
       "Residual standard error: 0.8657 on 53 degrees of freedom\n",
       "Multiple R-squared:  0.2209,\tAdjusted R-squared:  0.1327 \n",
       "F-statistic: 2.505 on 6 and 53 DF,  p-value: 0.03299\n"
      ]
     },
     "execution_count": 50,
     "metadata": {},
     "output_type": "execute_result"
    }
   ],
   "source": [
    "reg_all <- lm(RRO ~ TampilanO + MenuO + PackagingO + WifiO + PembayaranO + PelayananO, data = DataOutback)\n",
    "summary(reg_all)"
   ]
  },
  {
   "cell_type": "markdown",
   "metadata": {
    "collapsed": true
   },
   "source": [
    "# 7. Variabel apa saja yang signifikan dalam mempengaruhi Retention Rate?"
   ]
  },
  {
   "cell_type": "code",
   "execution_count": 51,
   "metadata": {
    "collapsed": false
   },
   "outputs": [
    {
     "data": {
      "text/plain": [
       "Subset selection object\n",
       "Call: regsubsets.formula(RRO ~ TampilanO + MenuO + PackagingO + WifiO + \n",
       "    PembayaranO + PelayananO, data = DataOutback, nbest = 1, \n",
       "    nvmax = NULL, force.in = NULL, force.out = NULL, method = \"exhaustive\")\n",
       "6 Variables  (and intercept)\n",
       "            Forced in Forced out\n",
       "TampilanO       FALSE      FALSE\n",
       "MenuO           FALSE      FALSE\n",
       "PackagingO      FALSE      FALSE\n",
       "WifiO           FALSE      FALSE\n",
       "PembayaranO     FALSE      FALSE\n",
       "PelayananO      FALSE      FALSE\n",
       "1 subsets of each size up to 6\n",
       "Selection Algorithm: exhaustive"
      ]
     },
     "execution_count": 51,
     "metadata": {},
     "output_type": "execute_result"
    }
   ],
   "source": [
    "library(leaps)\n",
    "regsubsets.out <-regsubsets(RRO ~ TampilanO + MenuO + PackagingO + WifiO + PembayaranO + PelayananO,\n",
    "               data = DataOutback,\n",
    "               nbest = 1,       # 1 best model for each number of predictors\n",
    "               nvmax = NULL,    # NULL for no limit on number of variables\n",
    "               force.in = NULL, force.out = NULL,\n",
    "               method = \"exhaustive\")\n",
    "regsubsets.out"
   ]
  },
  {
   "cell_type": "code",
   "execution_count": 52,
   "metadata": {
    "collapsed": false
   },
   "outputs": [
    {
     "data": {
      "text/html": [
       "<table>\n",
       "<thead><tr><th></th><th scope=col>TampilanO</th><th scope=col>MenuO</th><th scope=col>PackagingO</th><th scope=col>WifiO</th><th scope=col>PembayaranO</th><th scope=col>PelayananO</th></tr></thead>\n",
       "<tbody>\n",
       "\t<tr><th scope=row>1  ( 1 )</th><td> </td><td> </td><td> </td><td> </td><td> </td><td>*</td></tr>\n",
       "\t<tr><th scope=row>2  ( 1 )</th><td> </td><td> </td><td> </td><td>*</td><td> </td><td>*</td></tr>\n",
       "\t<tr><th scope=row>3  ( 1 )</th><td>*</td><td> </td><td> </td><td>*</td><td> </td><td>*</td></tr>\n",
       "\t<tr><th scope=row>4  ( 1 )</th><td>*</td><td>*</td><td> </td><td>*</td><td> </td><td>*</td></tr>\n",
       "\t<tr><th scope=row>5  ( 1 )</th><td>*</td><td> </td><td>*</td><td>*</td><td>*</td><td>*</td></tr>\n",
       "\t<tr><th scope=row>6  ( 1 )</th><td>*</td><td>*</td><td>*</td><td>*</td><td>*</td><td>*</td></tr>\n",
       "</tbody>\n",
       "</table>\n"
      ],
      "text/latex": [
       "\\begin{tabular}{r|llllll}\n",
       "  & TampilanO & MenuO & PackagingO & WifiO & PembayaranO & PelayananO\\\\\n",
       "\\hline\n",
       "\t1  ( 1 ) &   &   &   &   &   & *\\\\\n",
       "\t2  ( 1 ) &   &   &   & * &   & *\\\\\n",
       "\t3  ( 1 ) & * &   &   & * &   & *\\\\\n",
       "\t4  ( 1 ) & * & * &   & * &   & *\\\\\n",
       "\t5  ( 1 ) & * &   & * & * & * & *\\\\\n",
       "\t6  ( 1 ) & * & * & * & * & * & *\\\\\n",
       "\\end{tabular}\n"
      ],
      "text/plain": [
       "         TampilanO MenuO PackagingO WifiO PembayaranO PelayananO\n",
       "1  ( 1 )                                                       *\n",
       "2  ( 1 )                                *                      *\n",
       "3  ( 1 )         *                      *                      *\n",
       "4  ( 1 )         *     *                *                      *\n",
       "5  ( 1 )         *                *     *           *          *\n",
       "6  ( 1 )         *     *          *     *           *          *"
      ]
     },
     "execution_count": 52,
     "metadata": {},
     "output_type": "execute_result"
    }
   ],
   "source": [
    "summary.out <- summary(regsubsets.out)\n",
    "as.data.frame(summary.out$outmat)"
   ]
  },
  {
   "cell_type": "markdown",
   "metadata": {},
   "source": [
    "# Analisa dengan Adjusted R square pada Multivariable Regression: \n",
    "# Variabel Wifi dan Pelayanan yang signifikan dan memberikan Adjusted R square tertinggi."
   ]
  },
  {
   "cell_type": "code",
   "execution_count": 53,
   "metadata": {
    "collapsed": false,
    "scrolled": true
   },
   "outputs": [],
   "source": [
    "# plot(regsubsets.out, scale = \"adjr2\", main = \"Adjusted R^2\")"
   ]
  },
  {
   "cell_type": "markdown",
   "metadata": {},
   "source": [
    "![Co](m.png \"Correlastion vs Causation\") "
   ]
  },
  {
   "cell_type": "markdown",
   "metadata": {},
   "source": [
    "# Variabel Wifi dan Pelayanan yang signifikan dan memberikan Adjusted R square tertinggi:\n",
    "## * Adjusted R square benilai 0.1652,\n",
    "## * p-value Wifi 0.06 signiifikan pada alpha 10%\n",
    "## * variabel pelayanan dengan p-value 0.047 signigfikan pada alpha 5% "
   ]
  },
  {
   "cell_type": "code",
   "execution_count": 54,
   "metadata": {
    "collapsed": false,
    "scrolled": true
   },
   "outputs": [
    {
     "data": {
      "text/plain": [
       "\n",
       "Call:\n",
       "lm(formula = RRO ~ WifiO + PelayananO, data = DataOutback)\n",
       "\n",
       "Residuals:\n",
       "     Min       1Q   Median       3Q      Max \n",
       "-2.27924 -0.60887  0.00582  0.39113  1.72076 \n",
       "\n",
       "Coefficients:\n",
       "            Estimate Std. Error t value Pr(>|t|)  \n",
       "(Intercept)   0.5708     0.8253   0.692   0.4920  \n",
       "WifiO         0.3296     0.1720   1.916   0.0603 .\n",
       "PelayananO    0.4299     0.2118   2.029   0.0471 *\n",
       "---\n",
       "Signif. codes:  0 ‘***’ 0.001 ‘**’ 0.01 ‘*’ 0.05 ‘.’ 0.1 ‘ ’ 1\n",
       "\n",
       "Residual standard error: 0.8493 on 57 degrees of freedom\n",
       "Multiple R-squared:  0.1935,\tAdjusted R-squared:  0.1652 \n",
       "F-statistic: 6.838 on 2 and 57 DF,  p-value: 0.002178\n"
      ]
     },
     "execution_count": 54,
     "metadata": {},
     "output_type": "execute_result"
    }
   ],
   "source": [
    "reg_best <- lm(RRO ~ WifiO + PelayananO, data = DataOutback)\n",
    "summary(reg_best)"
   ]
  },
  {
   "cell_type": "code",
   "execution_count": null,
   "metadata": {
    "collapsed": true
   },
   "outputs": [],
   "source": []
  },
  {
   "cell_type": "code",
   "execution_count": null,
   "metadata": {
    "collapsed": true
   },
   "outputs": [],
   "source": []
  },
  {
   "cell_type": "code",
   "execution_count": null,
   "metadata": {
    "collapsed": true
   },
   "outputs": [],
   "source": []
  }
 ],
 "metadata": {
  "kernelspec": {
   "display_name": "R",
   "language": "R",
   "name": "ir"
  },
  "language_info": {
   "codemirror_mode": "r",
   "file_extension": ".r",
   "mimetype": "text/x-r-source",
   "name": "R",
   "pygments_lexer": "r",
   "version": "3.2.2"
  }
 },
 "nbformat": 4,
 "nbformat_minor": 0
}
