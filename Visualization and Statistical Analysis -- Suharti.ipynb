{
 "cells": [
  {
   "cell_type": "markdown",
   "metadata": {},
   "source": [
    "# Analisis Tingkat Pelanggan Kembali pada Suharti"
   ]
  },
  {
   "cell_type": "code",
   "execution_count": 25,
   "metadata": {
    "collapsed": false
   },
   "outputs": [
    {
     "name": "stderr",
     "output_type": "stream",
     "text": [
      "Loading required package: nlme\n",
      "This is mgcv 1.8-9. For overview type 'help(\"mgcv-package\")'.\n",
      "Package 'sm', version 2.2-5.4: type help(sm) for summary information\n",
      "\n",
      "Attaching package: ‘sm’\n",
      "\n",
      "The following object is masked from ‘package:MASS’:\n",
      "\n",
      "    muscle\n",
      "\n",
      "Loading required package: strucchange\n",
      "Loading required package: zoo\n",
      "\n",
      "Attaching package: ‘zoo’\n",
      "\n",
      "The following objects are masked from ‘package:base’:\n",
      "\n",
      "    as.Date, as.Date.numeric\n",
      "\n",
      "Loading required package: sandwich\n",
      "Loading required package: urca\n",
      "Loading required package: lmtest\n"
     ]
    }
   ],
   "source": [
    "library(ggplot2)\n",
    "library(MASS)\n",
    "library(reshape2)\n",
    "library(corrplot)\n",
    "library(plyr)\n",
    "library(mgcv)\n",
    "library(sm)\n",
    "library(vars)\n",
    "library(lattice)\n",
    "library(R2HTML)\n",
    "library(knitr)\n",
    "library(IRkernel)\n",
    "options(repr.plot.width = 7)\n",
    "options(repr.plot.height = 5)"
   ]
  },
  {
   "cell_type": "markdown",
   "metadata": {},
   "source": [
    "# Data Suharti:"
   ]
  },
  {
   "cell_type": "code",
   "execution_count": 26,
   "metadata": {
    "collapsed": false
   },
   "outputs": [
    {
     "data": {
      "text/html": [
       "<table>\n",
       "<thead><tr><th></th><th scope=col>RRS</th><th scope=col>TampilanS</th><th scope=col>MenuS</th><th scope=col>PackagingS</th><th scope=col>WifiS</th><th scope=col>PembayaranS</th><th scope=col>PelayananS</th></tr></thead>\n",
       "<tbody>\n",
       "\t<tr><th scope=row>1</th><td>5</td><td>4</td><td>4</td><td>4</td><td>4</td><td>4</td><td>4</td></tr>\n",
       "\t<tr><th scope=row>2</th><td>3</td><td>3</td><td>3</td><td>3</td><td>3</td><td>4</td><td>4</td></tr>\n",
       "\t<tr><th scope=row>3</th><td>5</td><td>3</td><td>4</td><td>4</td><td>2</td><td>5</td><td>4</td></tr>\n",
       "\t<tr><th scope=row>4</th><td>4</td><td>4</td><td>3</td><td>3</td><td>3</td><td>4</td><td>4</td></tr>\n",
       "\t<tr><th scope=row>5</th><td>2</td><td>1</td><td>1</td><td>1</td><td>2</td><td>3</td><td>2</td></tr>\n",
       "\t<tr><th scope=row>6</th><td>4</td><td>3</td><td>4</td><td>4</td><td>4</td><td>4</td><td>4</td></tr>\n",
       "\t<tr><th scope=row>7</th><td>3</td><td>4</td><td>4</td><td>4</td><td>4</td><td>4</td><td>4</td></tr>\n",
       "\t<tr><th scope=row>8</th><td>4</td><td>3</td><td>2</td><td>3</td><td>2</td><td>4</td><td>3</td></tr>\n",
       "\t<tr><th scope=row>9</th><td>3</td><td>3</td><td>3</td><td>4</td><td>3</td><td>4</td><td>4</td></tr>\n",
       "\t<tr><th scope=row>10</th><td>3</td><td>3</td><td>4</td><td>4</td><td>3</td><td>4</td><td>4</td></tr>\n",
       "\t<tr><th scope=row>11</th><td>5</td><td>4</td><td>3</td><td>3</td><td>3</td><td>4</td><td>4</td></tr>\n",
       "\t<tr><th scope=row>12</th><td>4</td><td>4</td><td>3</td><td>3</td><td>2</td><td>4</td><td>4</td></tr>\n",
       "\t<tr><th scope=row>13</th><td>5</td><td>3</td><td>3</td><td>4</td><td>3</td><td>5</td><td>4</td></tr>\n",
       "\t<tr><th scope=row>14</th><td>3</td><td>2</td><td>2</td><td>1</td><td>1</td><td>4</td><td>4</td></tr>\n",
       "\t<tr><th scope=row>15</th><td>4</td><td>4</td><td>4</td><td>4</td><td>4</td><td>4</td><td>4</td></tr>\n",
       "\t<tr><th scope=row>16</th><td>4</td><td>3</td><td>3</td><td>5</td><td>5</td><td>5</td><td>5</td></tr>\n",
       "\t<tr><th scope=row>17</th><td>3</td><td>4</td><td>4</td><td>4</td><td>4</td><td>4</td><td>4</td></tr>\n",
       "\t<tr><th scope=row>18</th><td>3</td><td>3</td><td>2</td><td>4</td><td>3</td><td>4</td><td>4</td></tr>\n",
       "\t<tr><th scope=row>19</th><td>1</td><td>3</td><td>3</td><td>2</td><td>2</td><td>2</td><td>3</td></tr>\n",
       "\t<tr><th scope=row>20</th><td>5</td><td>2</td><td>2</td><td>4</td><td>3</td><td>3</td><td>3</td></tr>\n",
       "\t<tr><th scope=row>21</th><td>4</td><td>3</td><td>3</td><td>4</td><td>3</td><td>4</td><td>4</td></tr>\n",
       "\t<tr><th scope=row>22</th><td>4</td><td>4</td><td>2</td><td>3</td><td>2</td><td>5</td><td>4</td></tr>\n",
       "\t<tr><th scope=row>23</th><td>3</td><td>4</td><td>4</td><td>4</td><td>3</td><td>4</td><td>4</td></tr>\n",
       "\t<tr><th scope=row>24</th><td>3</td><td>3</td><td>2</td><td>2</td><td>2</td><td>4</td><td>4</td></tr>\n",
       "\t<tr><th scope=row>25</th><td>5</td><td>3</td><td>4</td><td>4</td><td>3</td><td>4</td><td>4</td></tr>\n",
       "\t<tr><th scope=row>26</th><td>3</td><td>3</td><td>3</td><td>3</td><td>3</td><td>4</td><td>4</td></tr>\n",
       "\t<tr><th scope=row>27</th><td>3</td><td>2</td><td>2</td><td>4</td><td>3</td><td>4</td><td>4</td></tr>\n",
       "\t<tr><th scope=row>28</th><td>3</td><td>3</td><td>3</td><td>4</td><td>3</td><td>4</td><td>3</td></tr>\n",
       "\t<tr><th scope=row>29</th><td>2</td><td>3</td><td>2</td><td>2</td><td>2</td><td>2</td><td>3</td></tr>\n",
       "\t<tr><th scope=row>30</th><td>3</td><td>3</td><td>3</td><td>3</td><td>2</td><td>3</td><td>4</td></tr>\n",
       "\t<tr><th scope=row>31</th><td>4</td><td>3</td><td>2</td><td>2</td><td>2</td><td>4</td><td>4</td></tr>\n",
       "\t<tr><th scope=row>32</th><td>4</td><td>4</td><td>4</td><td>4</td><td>2</td><td>3</td><td>3</td></tr>\n",
       "\t<tr><th scope=row>33</th><td>2</td><td>2</td><td>2</td><td>3</td><td>1</td><td>4</td><td>4</td></tr>\n",
       "\t<tr><th scope=row>34</th><td>4</td><td>4</td><td>3</td><td>3</td><td>4</td><td>4</td><td>3</td></tr>\n",
       "\t<tr><th scope=row>35</th><td>4</td><td>4</td><td>4</td><td>4</td><td>2</td><td>4</td><td>3</td></tr>\n",
       "\t<tr><th scope=row>36</th><td>4</td><td>4</td><td>4</td><td>3</td><td>2</td><td>3</td><td>3</td></tr>\n",
       "\t<tr><th scope=row>37</th><td>4</td><td>4</td><td>5</td><td>4</td><td>4</td><td>3</td><td>4</td></tr>\n",
       "\t<tr><th scope=row>38</th><td>3</td><td>4</td><td>3</td><td>2</td><td>2</td><td>3</td><td>4</td></tr>\n",
       "\t<tr><th scope=row>39</th><td>5</td><td>4</td><td>3</td><td>3</td><td>3</td><td>4</td><td>4</td></tr>\n",
       "\t<tr><th scope=row>40</th><td>3</td><td>4</td><td>3</td><td>4</td><td>3</td><td>5</td><td>4</td></tr>\n",
       "\t<tr><th scope=row>41</th><td>3</td><td>3</td><td>4</td><td>4</td><td>3</td><td>4</td><td>4</td></tr>\n",
       "\t<tr><th scope=row>42</th><td>3</td><td>3</td><td>3</td><td>3</td><td>3</td><td>3</td><td>3</td></tr>\n",
       "\t<tr><th scope=row>43</th><td>4</td><td>4</td><td>3</td><td>4</td><td>3</td><td>4</td><td>4</td></tr>\n",
       "\t<tr><th scope=row>44</th><td>4</td><td>3</td><td>2</td><td>4</td><td>2</td><td>4</td><td>4</td></tr>\n",
       "\t<tr><th scope=row>45</th><td>3</td><td>4</td><td>4</td><td>4</td><td>3</td><td>4</td><td>4</td></tr>\n",
       "\t<tr><th scope=row>46</th><td>4</td><td>3</td><td>3</td><td>3</td><td>2</td><td>4</td><td>4</td></tr>\n",
       "\t<tr><th scope=row>47</th><td>1</td><td>2</td><td>3</td><td>3</td><td>2</td><td>3</td><td>2</td></tr>\n",
       "\t<tr><th scope=row>48</th><td>4</td><td>4</td><td>4</td><td>4</td><td>2</td><td>4</td><td>4</td></tr>\n",
       "\t<tr><th scope=row>49</th><td>3</td><td>3</td><td>2</td><td>2</td><td>2</td><td>3</td><td>4</td></tr>\n",
       "\t<tr><th scope=row>50</th><td>4</td><td>3</td><td>3</td><td>3</td><td>3</td><td>4</td><td>4</td></tr>\n",
       "\t<tr><th scope=row>51</th><td>3</td><td>3</td><td>3</td><td>4</td><td>3</td><td>4</td><td>4</td></tr>\n",
       "\t<tr><th scope=row>52</th><td>4</td><td>3</td><td>4</td><td>4</td><td>4</td><td>4</td><td>4</td></tr>\n",
       "\t<tr><th scope=row>53</th><td>4</td><td>3</td><td>3</td><td>3</td><td>3</td><td>4</td><td>4</td></tr>\n",
       "\t<tr><th scope=row>54</th><td>4</td><td>4</td><td>4</td><td>3</td><td>2</td><td>4</td><td>3</td></tr>\n",
       "\t<tr><th scope=row>55</th><td>3</td><td>4</td><td>4</td><td>4</td><td>2</td><td>3</td><td>4</td></tr>\n",
       "\t<tr><th scope=row>56</th><td>4</td><td>4</td><td>3</td><td>3</td><td>3</td><td>4</td><td>4</td></tr>\n",
       "\t<tr><th scope=row>57</th><td>4</td><td>3</td><td>3</td><td>3</td><td>2</td><td>4</td><td>4</td></tr>\n",
       "\t<tr><th scope=row>58</th><td>3</td><td>4</td><td>4</td><td>4</td><td>4</td><td>4</td><td>4</td></tr>\n",
       "\t<tr><th scope=row>59</th><td>4</td><td>3</td><td>3</td><td>3</td><td>3</td><td>4</td><td>4</td></tr>\n",
       "\t<tr><th scope=row>60</th><td>4</td><td>3</td><td>3</td><td>3</td><td>2</td><td>3</td><td>4</td></tr>\n",
       "</tbody>\n",
       "</table>\n"
      ],
      "text/latex": [
       "\\begin{tabular}{r|lllllll}\n",
       "  & RRS & TampilanS & MenuS & PackagingS & WifiS & PembayaranS & PelayananS\\\\\n",
       "\\hline\n",
       "\t1 & 5 & 4 & 4 & 4 & 4 & 4 & 4\\\\\n",
       "\t2 & 3 & 3 & 3 & 3 & 3 & 4 & 4\\\\\n",
       "\t3 & 5 & 3 & 4 & 4 & 2 & 5 & 4\\\\\n",
       "\t4 & 4 & 4 & 3 & 3 & 3 & 4 & 4\\\\\n",
       "\t5 & 2 & 1 & 1 & 1 & 2 & 3 & 2\\\\\n",
       "\t6 & 4 & 3 & 4 & 4 & 4 & 4 & 4\\\\\n",
       "\t7 & 3 & 4 & 4 & 4 & 4 & 4 & 4\\\\\n",
       "\t8 & 4 & 3 & 2 & 3 & 2 & 4 & 3\\\\\n",
       "\t9 & 3 & 3 & 3 & 4 & 3 & 4 & 4\\\\\n",
       "\t10 & 3 & 3 & 4 & 4 & 3 & 4 & 4\\\\\n",
       "\t11 & 5 & 4 & 3 & 3 & 3 & 4 & 4\\\\\n",
       "\t12 & 4 & 4 & 3 & 3 & 2 & 4 & 4\\\\\n",
       "\t13 & 5 & 3 & 3 & 4 & 3 & 5 & 4\\\\\n",
       "\t14 & 3 & 2 & 2 & 1 & 1 & 4 & 4\\\\\n",
       "\t15 & 4 & 4 & 4 & 4 & 4 & 4 & 4\\\\\n",
       "\t16 & 4 & 3 & 3 & 5 & 5 & 5 & 5\\\\\n",
       "\t17 & 3 & 4 & 4 & 4 & 4 & 4 & 4\\\\\n",
       "\t18 & 3 & 3 & 2 & 4 & 3 & 4 & 4\\\\\n",
       "\t19 & 1 & 3 & 3 & 2 & 2 & 2 & 3\\\\\n",
       "\t20 & 5 & 2 & 2 & 4 & 3 & 3 & 3\\\\\n",
       "\t21 & 4 & 3 & 3 & 4 & 3 & 4 & 4\\\\\n",
       "\t22 & 4 & 4 & 2 & 3 & 2 & 5 & 4\\\\\n",
       "\t23 & 3 & 4 & 4 & 4 & 3 & 4 & 4\\\\\n",
       "\t24 & 3 & 3 & 2 & 2 & 2 & 4 & 4\\\\\n",
       "\t25 & 5 & 3 & 4 & 4 & 3 & 4 & 4\\\\\n",
       "\t26 & 3 & 3 & 3 & 3 & 3 & 4 & 4\\\\\n",
       "\t27 & 3 & 2 & 2 & 4 & 3 & 4 & 4\\\\\n",
       "\t28 & 3 & 3 & 3 & 4 & 3 & 4 & 3\\\\\n",
       "\t29 & 2 & 3 & 2 & 2 & 2 & 2 & 3\\\\\n",
       "\t30 & 3 & 3 & 3 & 3 & 2 & 3 & 4\\\\\n",
       "\t31 & 4 & 3 & 2 & 2 & 2 & 4 & 4\\\\\n",
       "\t32 & 4 & 4 & 4 & 4 & 2 & 3 & 3\\\\\n",
       "\t33 & 2 & 2 & 2 & 3 & 1 & 4 & 4\\\\\n",
       "\t34 & 4 & 4 & 3 & 3 & 4 & 4 & 3\\\\\n",
       "\t35 & 4 & 4 & 4 & 4 & 2 & 4 & 3\\\\\n",
       "\t36 & 4 & 4 & 4 & 3 & 2 & 3 & 3\\\\\n",
       "\t37 & 4 & 4 & 5 & 4 & 4 & 3 & 4\\\\\n",
       "\t38 & 3 & 4 & 3 & 2 & 2 & 3 & 4\\\\\n",
       "\t39 & 5 & 4 & 3 & 3 & 3 & 4 & 4\\\\\n",
       "\t40 & 3 & 4 & 3 & 4 & 3 & 5 & 4\\\\\n",
       "\t41 & 3 & 3 & 4 & 4 & 3 & 4 & 4\\\\\n",
       "\t42 & 3 & 3 & 3 & 3 & 3 & 3 & 3\\\\\n",
       "\t43 & 4 & 4 & 3 & 4 & 3 & 4 & 4\\\\\n",
       "\t44 & 4 & 3 & 2 & 4 & 2 & 4 & 4\\\\\n",
       "\t45 & 3 & 4 & 4 & 4 & 3 & 4 & 4\\\\\n",
       "\t46 & 4 & 3 & 3 & 3 & 2 & 4 & 4\\\\\n",
       "\t47 & 1 & 2 & 3 & 3 & 2 & 3 & 2\\\\\n",
       "\t48 & 4 & 4 & 4 & 4 & 2 & 4 & 4\\\\\n",
       "\t49 & 3 & 3 & 2 & 2 & 2 & 3 & 4\\\\\n",
       "\t50 & 4 & 3 & 3 & 3 & 3 & 4 & 4\\\\\n",
       "\t51 & 3 & 3 & 3 & 4 & 3 & 4 & 4\\\\\n",
       "\t52 & 4 & 3 & 4 & 4 & 4 & 4 & 4\\\\\n",
       "\t53 & 4 & 3 & 3 & 3 & 3 & 4 & 4\\\\\n",
       "\t54 & 4 & 4 & 4 & 3 & 2 & 4 & 3\\\\\n",
       "\t55 & 3 & 4 & 4 & 4 & 2 & 3 & 4\\\\\n",
       "\t56 & 4 & 4 & 3 & 3 & 3 & 4 & 4\\\\\n",
       "\t57 & 4 & 3 & 3 & 3 & 2 & 4 & 4\\\\\n",
       "\t58 & 3 & 4 & 4 & 4 & 4 & 4 & 4\\\\\n",
       "\t59 & 4 & 3 & 3 & 3 & 3 & 4 & 4\\\\\n",
       "\t60 & 4 & 3 & 3 & 3 & 2 & 3 & 4\\\\\n",
       "\\end{tabular}\n"
      ],
      "text/plain": [
       "   RRS TampilanS MenuS PackagingS WifiS PembayaranS PelayananS\n",
       "1    5         4     4          4     4           4          4\n",
       "2    3         3     3          3     3           4          4\n",
       "3    5         3     4          4     2           5          4\n",
       "4    4         4     3          3     3           4          4\n",
       "5    2         1     1          1     2           3          2\n",
       "6    4         3     4          4     4           4          4\n",
       "7    3         4     4          4     4           4          4\n",
       "8    4         3     2          3     2           4          3\n",
       "9    3         3     3          4     3           4          4\n",
       "10   3         3     4          4     3           4          4\n",
       "11   5         4     3          3     3           4          4\n",
       "12   4         4     3          3     2           4          4\n",
       "13   5         3     3          4     3           5          4\n",
       "14   3         2     2          1     1           4          4\n",
       "15   4         4     4          4     4           4          4\n",
       "16   4         3     3          5     5           5          5\n",
       "17   3         4     4          4     4           4          4\n",
       "18   3         3     2          4     3           4          4\n",
       "19   1         3     3          2     2           2          3\n",
       "20   5         2     2          4     3           3          3\n",
       "21   4         3     3          4     3           4          4\n",
       "22   4         4     2          3     2           5          4\n",
       "23   3         4     4          4     3           4          4\n",
       "24   3         3     2          2     2           4          4\n",
       "25   5         3     4          4     3           4          4\n",
       "26   3         3     3          3     3           4          4\n",
       "27   3         2     2          4     3           4          4\n",
       "28   3         3     3          4     3           4          3\n",
       "29   2         3     2          2     2           2          3\n",
       "30   3         3     3          3     2           3          4\n",
       "31   4         3     2          2     2           4          4\n",
       "32   4         4     4          4     2           3          3\n",
       "33   2         2     2          3     1           4          4\n",
       "34   4         4     3          3     4           4          3\n",
       "35   4         4     4          4     2           4          3\n",
       "36   4         4     4          3     2           3          3\n",
       "37   4         4     5          4     4           3          4\n",
       "38   3         4     3          2     2           3          4\n",
       "39   5         4     3          3     3           4          4\n",
       "40   3         4     3          4     3           5          4\n",
       "41   3         3     4          4     3           4          4\n",
       "42   3         3     3          3     3           3          3\n",
       "43   4         4     3          4     3           4          4\n",
       "44   4         3     2          4     2           4          4\n",
       "45   3         4     4          4     3           4          4\n",
       "46   4         3     3          3     2           4          4\n",
       "47   1         2     3          3     2           3          2\n",
       "48   4         4     4          4     2           4          4\n",
       "49   3         3     2          2     2           3          4\n",
       "50   4         3     3          3     3           4          4\n",
       "51   3         3     3          4     3           4          4\n",
       "52   4         3     4          4     4           4          4\n",
       "53   4         3     3          3     3           4          4\n",
       "54   4         4     4          3     2           4          3\n",
       "55   3         4     4          4     2           3          4\n",
       "56   4         4     3          3     3           4          4\n",
       "57   4         3     3          3     2           4          4\n",
       "58   3         4     4          4     4           4          4\n",
       "59   4         3     3          3     3           4          4\n",
       "60   4         3     3          3     2           3          4"
      ]
     },
     "execution_count": 26,
     "metadata": {},
     "output_type": "execute_result"
    }
   ],
   "source": [
    "DataOutback <-read.csv(\"Suharti.csv\", header=TRUE, sep=\",\") \n",
    "DataOutback"
   ]
  },
  {
   "cell_type": "markdown",
   "metadata": {},
   "source": [
    "# Summary Data Outback\n",
    "## Nilai Mean dari data lebih besar dari nilai 3, atau RG, kecuali wifi dengan mean 2.7"
   ]
  },
  {
   "cell_type": "code",
   "execution_count": 27,
   "metadata": {
    "collapsed": false
   },
   "outputs": [
    {
     "data": {
      "text/plain": [
       "      RRS         TampilanS         MenuS         PackagingS       WifiS      \n",
       " Min.   :1.00   Min.   :1.000   Min.   :1.000   Min.   :1.00   Min.   :1.000  \n",
       " 1st Qu.:3.00   1st Qu.:3.000   1st Qu.:3.000   1st Qu.:3.00   1st Qu.:2.000  \n",
       " Median :4.00   Median :3.000   Median :3.000   Median :3.50   Median :3.000  \n",
       " Mean   :3.55   Mean   :3.283   Mean   :3.117   Mean   :3.35   Mean   :2.733  \n",
       " 3rd Qu.:4.00   3rd Qu.:4.000   3rd Qu.:4.000   3rd Qu.:4.00   3rd Qu.:3.000  \n",
       " Max.   :5.00   Max.   :4.000   Max.   :5.000   Max.   :5.00   Max.   :5.000  \n",
       "  PembayaranS      PelayananS   \n",
       " Min.   :2.000   Min.   :2.000  \n",
       " 1st Qu.:4.000   1st Qu.:4.000  \n",
       " Median :4.000   Median :4.000  \n",
       " Mean   :3.817   Mean   :3.767  \n",
       " 3rd Qu.:4.000   3rd Qu.:4.000  \n",
       " Max.   :5.000   Max.   :5.000  "
      ]
     },
     "execution_count": 27,
     "metadata": {},
     "output_type": "execute_result"
    }
   ],
   "source": [
    "summary(DataOutback)"
   ]
  },
  {
   "cell_type": "markdown",
   "metadata": {},
   "source": [
    "# Korelasi:\n",
    "\n",
    "## Korelasi terbesar dengan Tingkat Kembali Konsumen (Retention Rate) adalah Pembayaran dan Pelayanan"
   ]
  },
  {
   "cell_type": "code",
   "execution_count": 28,
   "metadata": {
    "collapsed": false
   },
   "outputs": [
    {
     "data": {
      "text/html": [
       "<table>\n",
       "<thead><tr><th></th><th scope=col>RRS</th><th scope=col>TampilanS</th><th scope=col>MenuS</th><th scope=col>PackagingS</th><th scope=col>WifiS</th><th scope=col>PembayaranS</th><th scope=col>PelayananS</th></tr></thead>\n",
       "<tbody>\n",
       "\t<tr><th scope=row>RRS</th><td>1.0000000</td><td>0.3481285</td><td>0.2399796</td><td>0.3352675</td><td>0.2503176</td><td>0.4586434</td><td>0.3464381</td></tr>\n",
       "\t<tr><th scope=row>TampilanS</th><td>0.3481285</td><td>1.0000000</td><td>0.6101810</td><td>0.3305556</td><td>0.2848860</td><td>0.1617495</td><td>0.2747542</td></tr>\n",
       "\t<tr><th scope=row>MenuS</th><td>0.23997960</td><td>0.61018097</td><td>1.00000000</td><td>0.57954616</td><td>0.43302687</td><td>0.07707719</td><td>0.18330124</td></tr>\n",
       "\t<tr><th scope=row>PackagingS</th><td>0.3352675</td><td>0.3305556</td><td>0.5795462</td><td>1.0000000</td><td>0.5945836</td><td>0.4256719</td><td>0.3455232</td></tr>\n",
       "\t<tr><th scope=row>WifiS</th><td>0.2503176</td><td>0.2848860</td><td>0.4330269</td><td>0.5945836</td><td>1.0000000</td><td>0.3000293</td><td>0.3205987</td></tr>\n",
       "\t<tr><th scope=row>PembayaranS</th><td>0.45864345</td><td>0.16174953</td><td>0.07707719</td><td>0.42567194</td><td>0.30002928</td><td>1.00000000</td><td>0.53201680</td></tr>\n",
       "\t<tr><th scope=row>PelayananS</th><td>0.3464381</td><td>0.2747542</td><td>0.1833012</td><td>0.3455232</td><td>0.3205987</td><td>0.5320168</td><td>1.0000000</td></tr>\n",
       "</tbody>\n",
       "</table>\n"
      ],
      "text/latex": [
       "\\begin{tabular}{r|lllllll}\n",
       "  & RRS & TampilanS & MenuS & PackagingS & WifiS & PembayaranS & PelayananS\\\\\n",
       "\\hline\n",
       "\tRRS & 1.0000000 & 0.3481285 & 0.2399796 & 0.3352675 & 0.2503176 & 0.4586434 & 0.3464381\\\\\n",
       "\tTampilanS & 0.3481285 & 1.0000000 & 0.6101810 & 0.3305556 & 0.2848860 & 0.1617495 & 0.2747542\\\\\n",
       "\tMenuS & 0.23997960 & 0.61018097 & 1.00000000 & 0.57954616 & 0.43302687 & 0.07707719 & 0.18330124\\\\\n",
       "\tPackagingS & 0.3352675 & 0.3305556 & 0.5795462 & 1.0000000 & 0.5945836 & 0.4256719 & 0.3455232\\\\\n",
       "\tWifiS & 0.2503176 & 0.2848860 & 0.4330269 & 0.5945836 & 1.0000000 & 0.3000293 & 0.3205987\\\\\n",
       "\tPembayaranS & 0.45864345 & 0.16174953 & 0.07707719 & 0.42567194 & 0.30002928 & 1.00000000 & 0.53201680\\\\\n",
       "\tPelayananS & 0.3464381 & 0.2747542 & 0.1833012 & 0.3455232 & 0.3205987 & 0.5320168 & 1.0000000\\\\\n",
       "\\end{tabular}\n"
      ],
      "text/markdown": [
       "1. 1\n",
       "2. 0.348128476321776\n",
       "3. 0.23997960006785\n",
       "4. 0.335267498158595\n",
       "5. 0.250317641102546\n",
       "6. 0.458643448733092\n",
       "7. 0.346438145744321\n",
       "8. 0.348128476321776\n",
       "9. 1\n",
       "10. 0.610180970052508\n",
       "11. 0.330555588255342\n",
       "12. 0.284885994750324\n",
       "13. 0.161749525892546\n",
       "14. 0.274754216764572\n",
       "15. 0.23997960006785\n",
       "16. 0.610180970052508\n",
       "17. 1\n",
       "18. 0.579546157851206\n",
       "19. 0.433026866538295\n",
       "20. 0.0770771928854412\n",
       "21. 0.183301236632953\n",
       "22. 0.335267498158595\n",
       "23. 0.330555588255342\n",
       "24. 0.579546157851206\n",
       "25. 1\n",
       "26. 0.594583573467019\n",
       "27. 0.425671941191586\n",
       "28. 0.345523173274595\n",
       "29. 0.250317641102546\n",
       "30. 0.284885994750324\n",
       "31. 0.433026866538295\n",
       "32. 0.594583573467019\n",
       "33. 1\n",
       "34. 0.30002928088664\n",
       "35. 0.320598653903823\n",
       "36. 0.458643448733092\n",
       "37. 0.161749525892546\n",
       "38. 0.0770771928854412\n",
       "39. 0.425671941191586\n",
       "40. 0.30002928088664\n",
       "41. 1\n",
       "42. 0.532016796419175\n",
       "43. 0.346438145744321\n",
       "44. 0.274754216764572\n",
       "45. 0.183301236632953\n",
       "46. 0.345523173274595\n",
       "47. 0.320598653903823\n",
       "48. 0.532016796419175\n",
       "49. 1\n",
       "\n",
       "\n"
      ],
      "text/plain": [
       "                  RRS TampilanS      MenuS PackagingS     WifiS PembayaranS\n",
       "RRS         1.0000000 0.3481285 0.23997960  0.3352675 0.2503176  0.45864345\n",
       "TampilanS   0.3481285 1.0000000 0.61018097  0.3305556 0.2848860  0.16174953\n",
       "MenuS       0.2399796 0.6101810 1.00000000  0.5795462 0.4330269  0.07707719\n",
       "PackagingS  0.3352675 0.3305556 0.57954616  1.0000000 0.5945836  0.42567194\n",
       "WifiS       0.2503176 0.2848860 0.43302687  0.5945836 1.0000000  0.30002928\n",
       "PembayaranS 0.4586434 0.1617495 0.07707719  0.4256719 0.3000293  1.00000000\n",
       "PelayananS  0.3464381 0.2747542 0.18330124  0.3455232 0.3205987  0.53201680\n",
       "            PelayananS\n",
       "RRS          0.3464381\n",
       "TampilanS    0.2747542\n",
       "MenuS        0.1833012\n",
       "PackagingS   0.3455232\n",
       "WifiS        0.3205987\n",
       "PembayaranS  0.5320168\n",
       "PelayananS   1.0000000"
      ]
     },
     "execution_count": 28,
     "metadata": {},
     "output_type": "execute_result"
    }
   ],
   "source": [
    "cor(DataOutback)"
   ]
  },
  {
   "cell_type": "markdown",
   "metadata": {},
   "source": [
    "# 1. Hubungan Tampilan Interior dengan Retention Rate\n",
    "## Hubungan positif  signifikan"
   ]
  },
  {
   "cell_type": "code",
   "execution_count": 29,
   "metadata": {
    "collapsed": false
   },
   "outputs": [],
   "source": [
    "# qplot(DataOutback,\n",
    "#       x = DataOutback$RRS,\n",
    "#       y = DataOutback$TampilanS,\n",
    "#       position = position_jitter(w = 0.1, h = 0.1),\n",
    "#       xlab = \"Retention Rate Suharti\",\n",
    "#       ylab = \"Tampilan Interior Suharti\",\n",
    "#       main = \"Hubungan Tampilan Interior dengan Retention Rate\")\n"
   ]
  },
  {
   "cell_type": "markdown",
   "metadata": {},
   "source": [
    "![Co](1.png \"Correlastion vs Causation\") "
   ]
  },
  {
   "cell_type": "markdown",
   "metadata": {},
   "source": [
    "## Gambar di atas dimodifikasi agar tidak bertumpuk, gambar di bawah adalah gambar hubungan asli Retention Rate dengan Tampilan"
   ]
  },
  {
   "cell_type": "code",
   "execution_count": 30,
   "metadata": {
    "collapsed": false,
    "scrolled": true
   },
   "outputs": [],
   "source": [
    "# qplot(x = RRS,\n",
    "#       TampilanS,\n",
    "#       data = DataOutback,\n",
    "#       geom = c(\"point\", \"smooth\"),\n",
    "#       method = \"lm\",\n",
    "#       xlab = \"Retention Rate Suharti\",\n",
    "#       ylab = \"Tampilan Interior Suharti\",\n",
    "#       main = \"Hubungan Tampilan Interior dengan Retention Rate\",\n",
    "#       formula = y ~ x)"
   ]
  },
  {
   "cell_type": "markdown",
   "metadata": {},
   "source": [
    "![Co](2.png \"Correlastion vs Causation\") "
   ]
  },
  {
   "cell_type": "markdown",
   "metadata": {},
   "source": [
    "## Hasil Regresi Retention Rate dengan Tampilan:\n",
    "### * Tampilan  signifikan mempengaruhi Retention Rate\n",
    "###  * Signifikansi ditunjujan dengan nilai p-value 0.006 pada hasil di bawah"
   ]
  },
  {
   "cell_type": "code",
   "execution_count": 31,
   "metadata": {
    "collapsed": false
   },
   "outputs": [
    {
     "data": {
      "text/plain": [
       "\n",
       "Call:\n",
       "lm(formula = RRS ~ TampilanS, data = DataOutback)\n",
       "\n",
       "Residuals:\n",
       "    Min      1Q  Median      3Q     Max \n",
       "-2.4228 -0.4228  0.1283  0.5772  2.0260 \n",
       "\n",
       "Coefficients:\n",
       "            Estimate Std. Error t value Pr(>|t|)    \n",
       "(Intercept)   2.0763     0.5323   3.900 0.000252 ***\n",
       "TampilanS     0.4488     0.1587   2.828 0.006417 ** \n",
       "---\n",
       "Signif. codes:  0 ‘***’ 0.001 ‘**’ 0.01 ‘*’ 0.05 ‘.’ 0.1 ‘ ’ 1\n",
       "\n",
       "Residual standard error: 0.8425 on 58 degrees of freedom\n",
       "Multiple R-squared:  0.1212,\tAdjusted R-squared:  0.106 \n",
       "F-statistic: 7.999 on 1 and 58 DF,  p-value: 0.006417\n"
      ]
     },
     "execution_count": 31,
     "metadata": {},
     "output_type": "execute_result"
    }
   ],
   "source": [
    "regression_RRO_TampilanO = lm(RRS ~ TampilanS, data = DataOutback)\n",
    "summary(regression_RRO_TampilanO)"
   ]
  },
  {
   "cell_type": "markdown",
   "metadata": {},
   "source": [
    "# 2. Hubungan Tampilan Menu dengan Retention Rate\n",
    "## Hubungan positif  signifikan"
   ]
  },
  {
   "cell_type": "code",
   "execution_count": 32,
   "metadata": {
    "collapsed": false
   },
   "outputs": [],
   "source": [
    "# qplot(x = RRS,\n",
    "#       y = MenuS,\n",
    "#       data = DataOutback,\n",
    "#       geom = c(\"point\"),\n",
    "#       position = position_jitter(w = 0.1, h = 0.1),\n",
    "#       method = \"lm\",\n",
    "#       xlab = \"Retention Rate Suharti\",\n",
    "#       ylab = \"Menu SuhartI\",\n",
    "#       main = \"Hubungan Tampilan Menu dengan Retention Rate\",\n",
    "#       formula = y ~ x)"
   ]
  },
  {
   "cell_type": "markdown",
   "metadata": {},
   "source": [
    "![Co](3.png \"Correlastion vs Causation\") "
   ]
  },
  {
   "cell_type": "code",
   "execution_count": 33,
   "metadata": {
    "collapsed": false
   },
   "outputs": [],
   "source": [
    "# qplot(x = RRS,\n",
    "#       y = MenuS,\n",
    "#       data = DataOutback,\n",
    "#       geom = c(\"point\", \"smooth\"),\n",
    "#       method = \"lm\",\n",
    "#       xlab = \"Retention Rate Suharti\",\n",
    "#       ylab = \"Menu Sharti\",\n",
    "#       main = \"Hubungan Tampilan Menu dengan Retention Rate\",\n",
    "#       formula = y ~ x)"
   ]
  },
  {
   "cell_type": "markdown",
   "metadata": {},
   "source": [
    "![Co](4.png \"Correlastion vs Causation\") "
   ]
  },
  {
   "cell_type": "markdown",
   "metadata": {},
   "source": [
    "## Hasil Regresi Retention Rate dengan Tampilan Menu:\n",
    "### * Tampilan signifikan mempengaruhi Retention Rate\n",
    "###  * Signifikansi ditunjujan dengan nilai p-value 0.06 pada hasil dibawah"
   ]
  },
  {
   "cell_type": "code",
   "execution_count": 34,
   "metadata": {
    "collapsed": false
   },
   "outputs": [
    {
     "data": {
      "text/plain": [
       "\n",
       "Call:\n",
       "lm(formula = RRS ~ MenuS, data = DataOutback)\n",
       "\n",
       "Residuals:\n",
       "    Min      1Q  Median      3Q     Max \n",
       "-2.5190 -0.5190  0.2152  0.4810  1.7468 \n",
       "\n",
       "Coefficients:\n",
       "            Estimate Std. Error t value Pr(>|t|)    \n",
       "(Intercept)   2.7215     0.4542   5.991 1.41e-07 ***\n",
       "MenuS         0.2658     0.1412   1.883   0.0648 .  \n",
       "---\n",
       "Signif. codes:  0 ‘***’ 0.001 ‘**’ 0.01 ‘*’ 0.05 ‘.’ 0.1 ‘ ’ 1\n",
       "\n",
       "Residual standard error: 0.8725 on 58 degrees of freedom\n",
       "Multiple R-squared:  0.05759,\tAdjusted R-squared:  0.04134 \n",
       "F-statistic: 3.544 on 1 and 58 DF,  p-value: 0.06477\n"
      ]
     },
     "execution_count": 34,
     "metadata": {},
     "output_type": "execute_result"
    }
   ],
   "source": [
    "regression_RRO_MenuO = lm(RRS ~ MenuS, data = DataOutback)\n",
    "summary(regression_RRO_MenuO)"
   ]
  },
  {
   "cell_type": "markdown",
   "metadata": {},
   "source": [
    "# 3. Hubungan Tampilan Packaging dengan Retention Rate\n",
    "## Hubungan positif  signifikan"
   ]
  },
  {
   "cell_type": "code",
   "execution_count": 35,
   "metadata": {
    "collapsed": false
   },
   "outputs": [],
   "source": [
    "# qplot(x = RRS,\n",
    "#       y = PackagingS,\n",
    "#       data = DataOutback,\n",
    "#       geom = c(\"point\"),\n",
    "#       position = position_jitter(w = 0.1, h = 0.1),\n",
    "#       xlab = \"Retention Rate Suharti\",\n",
    "#       ylab = \"Menu Suharti\",\n",
    "#       main = \"Hubungan Tampilan Packaging dengan Retention Rate\",\n",
    "#       formula = y ~ x)"
   ]
  },
  {
   "cell_type": "markdown",
   "metadata": {},
   "source": [
    "![Co](5.png \"Correlastion vs Causation\") "
   ]
  },
  {
   "cell_type": "code",
   "execution_count": 36,
   "metadata": {
    "collapsed": false
   },
   "outputs": [],
   "source": [
    "# qplot(x = RRS,\n",
    "#       y = PackagingS,\n",
    "#       data = DataOutback,\n",
    "#       geom = c(\"point\", \"smooth\"),\n",
    "#       method = \"lm\",\n",
    "#       xlab = \"Retention Rate Suharti\",\n",
    "#       ylab = \"Packaging Suharti\",\n",
    "#       main = \"Hubungan Tampilan Packaging Makanan dengan Retention Rate\",\n",
    "#       formula = y ~ x)"
   ]
  },
  {
   "cell_type": "markdown",
   "metadata": {},
   "source": [
    "![Co](6.png \"Correlastion vs Causation\") "
   ]
  },
  {
   "cell_type": "markdown",
   "metadata": {},
   "source": [
    "## Hasil Regresi Retention Rate dengan Packaging:\n",
    "### * Packaging signifikan mempengaruhi Retention Rate pada alpha 10%\n",
    "###  * Signifikansi ditunjukan dengan nilai p-value 0.008 pada hasil di bawah"
   ]
  },
  {
   "cell_type": "code",
   "execution_count": 37,
   "metadata": {
    "collapsed": false
   },
   "outputs": [
    {
     "data": {
      "text/plain": [
       "\n",
       "Call:\n",
       "lm(formula = RRS ~ PackagingS, data = DataOutback)\n",
       "\n",
       "Residuals:\n",
       "    Min      1Q  Median      3Q     Max \n",
       "-2.4224 -0.7869  0.2131  0.5776  1.5776 \n",
       "\n",
       "Coefficients:\n",
       "            Estimate Std. Error t value Pr(>|t|)    \n",
       "(Intercept)   2.3291     0.4635   5.025 5.14e-06 ***\n",
       "PackagingS    0.3644     0.1345   2.710  0.00883 ** \n",
       "---\n",
       "Signif. codes:  0 ‘***’ 0.001 ‘**’ 0.01 ‘*’ 0.05 ‘.’ 0.1 ‘ ’ 1\n",
       "\n",
       "Residual standard error: 0.8467 on 58 degrees of freedom\n",
       "Multiple R-squared:  0.1124,\tAdjusted R-squared:  0.0971 \n",
       "F-statistic: 7.345 on 1 and 58 DF,  p-value: 0.008829\n"
      ]
     },
     "execution_count": 37,
     "metadata": {},
     "output_type": "execute_result"
    }
   ],
   "source": [
    "regression_RRO_MenuO = lm(RRS ~ PackagingS, data = DataOutback)\n",
    "summary(regression_RRO_MenuO)"
   ]
  },
  {
   "cell_type": "markdown",
   "metadata": {},
   "source": [
    "# 4. Hubungan Wifi dengan Retention Rate\n",
    "## Hubungan positif  signifikan"
   ]
  },
  {
   "cell_type": "code",
   "execution_count": 38,
   "metadata": {
    "collapsed": false
   },
   "outputs": [],
   "source": [
    "# qplot(x = RRS,\n",
    "#       y = WifiS,\n",
    "#       data = DataOutback,\n",
    "#       geom = c(\"point\"),\n",
    "#       position = position_jitter(w = 0.1, h = 0.1),\n",
    "#       xlab = \"Retention Rate Suharti\",\n",
    "#       ylab = \"Wifi Suharti\",\n",
    "#       main = \"Hubungan Wifi dengan Retention Rate pada Suharti\",\n",
    "#       formula = y ~ x)\n"
   ]
  },
  {
   "cell_type": "markdown",
   "metadata": {},
   "source": [
    "![Co](7.png \"Correlastion vs Causation\") "
   ]
  },
  {
   "cell_type": "code",
   "execution_count": 39,
   "metadata": {
    "collapsed": false
   },
   "outputs": [],
   "source": [
    "# qplot(x = RRS,\n",
    "#       y = WifiS,\n",
    "#       data = DataOutback,\n",
    "#       geom = c(\"point\", \"smooth\"),\n",
    "#       method = \"lm\",\n",
    "#       xlab = \"Retention Rate Suharti\",\n",
    "#       ylab = \"Wifi Suharti\",\n",
    "#       main = \"Hubungan Wifi dengan Retention Rate\",\n",
    "#       formula = y ~ x)\n",
    "\n"
   ]
  },
  {
   "cell_type": "markdown",
   "metadata": {},
   "source": [
    "![Co](8.png \"Correlastion vs Causation\") "
   ]
  },
  {
   "cell_type": "markdown",
   "metadata": {},
   "source": [
    "## Hasil Regresi Retention Rate dengan Wifi:\n",
    "### * Wifi  signifikan mempengaruhi Retention Rate pada alpha 10%\n",
    "###  * Signifikansi ditunjukan dengan nilai p-value 0.05 pada hasil di bawah"
   ]
  },
  {
   "cell_type": "code",
   "execution_count": 40,
   "metadata": {
    "collapsed": false
   },
   "outputs": [
    {
     "data": {
      "text/plain": [
       "\n",
       "Call:\n",
       "lm(formula = RRS ~ WifiS, data = DataOutback)\n",
       "\n",
       "Residuals:\n",
       "    Min      1Q  Median      3Q     Max \n",
       "-2.3507 -0.6225  0.1057  0.6493  1.6493 \n",
       "\n",
       "Coefficients:\n",
       "            Estimate Std. Error t value Pr(>|t|)    \n",
       "(Intercept)   2.8070     0.3937   7.130 1.77e-09 ***\n",
       "WifiS         0.2718     0.1380   1.969   0.0537 .  \n",
       "---\n",
       "Signif. codes:  0 ‘***’ 0.001 ‘**’ 0.01 ‘*’ 0.05 ‘.’ 0.1 ‘ ’ 1\n",
       "\n",
       "Residual standard error: 0.8701 on 58 degrees of freedom\n",
       "Multiple R-squared:  0.06266,\tAdjusted R-squared:  0.0465 \n",
       "F-statistic: 3.877 on 1 and 58 DF,  p-value: 0.05373\n"
      ]
     },
     "execution_count": 40,
     "metadata": {},
     "output_type": "execute_result"
    }
   ],
   "source": [
    "regression_RRO_wifiO = lm(RRS ~ WifiS, data = DataOutback)\n",
    "summary(regression_RRO_wifiO)\n"
   ]
  },
  {
   "cell_type": "markdown",
   "metadata": {},
   "source": [
    "# 5. Hubungan Pembayaran dengan Retention Rate\n",
    "## Hubungan positif signifikan"
   ]
  },
  {
   "cell_type": "code",
   "execution_count": 41,
   "metadata": {
    "collapsed": false
   },
   "outputs": [],
   "source": [
    "# qplot(x = RRS,\n",
    "#       y = PembayaranS,\n",
    "#       data = DataOutback,\n",
    "#       geom = c(\"point\"),\n",
    "#       position = position_jitter(w = 0.1, h = 0.1),\n",
    "#       xlab = \"Retention Rate Suharti\",\n",
    "#       ylab = \"Pembayaran Suharti\",\n",
    "#       main = \"Hubungan Servis Permbayaran dengan Retention Rate pada Suharti\",\n",
    "#       formula = y ~ x)\n",
    "\n"
   ]
  },
  {
   "cell_type": "markdown",
   "metadata": {},
   "source": [
    "![Co](9.png \"Correlastion vs Causation\") "
   ]
  },
  {
   "cell_type": "code",
   "execution_count": 42,
   "metadata": {
    "collapsed": false
   },
   "outputs": [],
   "source": [
    "# qplot(x = RRS,\n",
    "#       y = PembayaranS,\n",
    "#       data = DataOutback,\n",
    "#       geom = c(\"point\", \"smooth\"),\n",
    "#       method = \"lm\",\n",
    "#       xlab = \"Retention Rate Suhari\",\n",
    "#       ylab = \"Service Pembayaran Suharti\",\n",
    "#       main = \"Hubungan Tampilan Menu dengan Retention Rate\",\n",
    "#       formula = y ~ x)"
   ]
  },
  {
   "cell_type": "markdown",
   "metadata": {},
   "source": [
    "![Co](10.png \"Correlastion vs Causation\") "
   ]
  },
  {
   "cell_type": "markdown",
   "metadata": {},
   "source": [
    "## Hasil Regresi Retention Rate dengan Pembayaran:\n",
    "### *  Pembayaran signifikan mempengaruhi Retention Rate pada alpha 1%\n",
    "###  * signifikannya variabel Pembayaran ditunjukan dengan nilai p-value 0.0028 pada hasil di bawah"
   ]
  },
  {
   "cell_type": "code",
   "execution_count": 43,
   "metadata": {
    "collapsed": false,
    "scrolled": true
   },
   "outputs": [
    {
     "data": {
      "text/plain": [
       "\n",
       "Call:\n",
       "lm(formula = RRS ~ PembayaranS, data = DataOutback)\n",
       "\n",
       "Residuals:\n",
       "    Min      1Q  Median      3Q     Max \n",
       "-2.0152 -0.6701  0.3300  0.3300  1.9848 \n",
       "\n",
       "Coefficients:\n",
       "            Estimate Std. Error t value Pr(>|t|)    \n",
       "(Intercept)   1.0508     0.6441   1.631 0.108246    \n",
       "PembayaranS   0.6548     0.1666   3.931 0.000228 ***\n",
       "---\n",
       "Signif. codes:  0 ‘***’ 0.001 ‘**’ 0.01 ‘*’ 0.05 ‘.’ 0.1 ‘ ’ 1\n",
       "\n",
       "Residual standard error: 0.7987 on 58 degrees of freedom\n",
       "Multiple R-squared:  0.2104,\tAdjusted R-squared:  0.1967 \n",
       "F-statistic: 15.45 on 1 and 58 DF,  p-value: 0.0002283\n"
      ]
     },
     "execution_count": 43,
     "metadata": {},
     "output_type": "execute_result"
    }
   ],
   "source": [
    "regression_RRO_PembayaranO = lm(RRS ~ PembayaranS, data = DataOutback)\n",
    "summary(regression_RRO_PembayaranO)"
   ]
  },
  {
   "cell_type": "markdown",
   "metadata": {},
   "source": [
    "# 6. Hubungan Pelayanan dengan Retention Rate\n",
    "## Hubungan positif signifikan"
   ]
  },
  {
   "cell_type": "code",
   "execution_count": 44,
   "metadata": {
    "collapsed": false
   },
   "outputs": [],
   "source": [
    "\n",
    "# qplot(x = RRS,\n",
    "#       y = PelayananS,\n",
    "#       data = DataOutback,\n",
    "#       geom = c(\"point\"),\n",
    "#       position = position_jitter(w = 0.1, h = 0.1),\n",
    "#       xlab = \"Retention Rate Suharti\",\n",
    "#       ylab = \"Pelayanan Suharti\",\n",
    "#       main = \"Hubungan Pelayanan dengan Retention Rate pada Suharti\",\n",
    "#       formula = y ~ x)\n"
   ]
  },
  {
   "cell_type": "markdown",
   "metadata": {},
   "source": [
    "![Co](11.png \"Correlastion vs Causation\") "
   ]
  },
  {
   "cell_type": "markdown",
   "metadata": {},
   "source": [
    "![Co](12.png \"Correlastion vs Causation\") "
   ]
  },
  {
   "cell_type": "markdown",
   "metadata": {},
   "source": [
    "## Hasil Regresi Retention Rate dengan Pelayanan:\n",
    "### * Wifi  signifikan mempengaruhi Retention Rate pada alpha 1%\n",
    "###  * signifikannya variabel Pelayanan ditunjukan dengan nilai p-value 0.0067 pada hasil di bawah"
   ]
  },
  {
   "cell_type": "code",
   "execution_count": 45,
   "metadata": {
    "collapsed": false,
    "scrolled": true
   },
   "outputs": [
    {
     "data": {
      "text/plain": [
       "\n",
       "Call:\n",
       "lm(formula = RRS ~ PelayananS, data = DataOutback)\n",
       "\n",
       "Residuals:\n",
       "    Min      1Q  Median      3Q     Max \n",
       "-2.1056 -0.6853  0.3147  0.3147  1.8944 \n",
       "\n",
       "Coefficients:\n",
       "            Estimate Std. Error t value Pr(>|t|)   \n",
       "(Intercept)   1.3665     0.7839   1.743   0.0866 . \n",
       "PelayananS    0.5797     0.2061   2.813   0.0067 **\n",
       "---\n",
       "Signif. codes:  0 ‘***’ 0.001 ‘**’ 0.01 ‘*’ 0.05 ‘.’ 0.1 ‘ ’ 1\n",
       "\n",
       "Residual standard error: 0.8431 on 58 degrees of freedom\n",
       "Multiple R-squared:   0.12,\tAdjusted R-squared:  0.1048 \n",
       "F-statistic: 7.911 on 1 and 58 DF,  p-value: 0.006696\n"
      ]
     },
     "execution_count": 45,
     "metadata": {},
     "output_type": "execute_result"
    }
   ],
   "source": [
    "regression_RRO_PelayananO = lm(RRS ~ PelayananS, data = DataOutback)\n",
    "summary(regression_RRO_PelayananO)"
   ]
  },
  {
   "cell_type": "markdown",
   "metadata": {},
   "source": [
    "## Analissa: Bagaimana Hubungan Keseluruhan Variabel dengan Retention Rate pada Outback?\n",
    "## * Hanya Pembayaran yang signifikan"
   ]
  },
  {
   "cell_type": "code",
   "execution_count": 46,
   "metadata": {
    "collapsed": false
   },
   "outputs": [
    {
     "data": {
      "text/plain": [
       "\n",
       "Call:\n",
       "lm(formula = RRS ~ TampilanS + MenuS + PackagingS + WifiS + PembayaranS + \n",
       "    PelayananS, data = DataOutback)\n",
       "\n",
       "Residuals:\n",
       "     Min       1Q   Median       3Q      Max \n",
       "-1.51546 -0.55038  0.05472  0.45182  2.29339 \n",
       "\n",
       "Coefficients:\n",
       "             Estimate Std. Error t value Pr(>|t|)  \n",
       "(Intercept) -0.107971   0.852189  -0.127   0.8997  \n",
       "TampilanS    0.313773   0.193648   1.620   0.1111  \n",
       "MenuS        0.006011   0.196368   0.031   0.9757  \n",
       "PackagingS   0.082370   0.190518   0.432   0.6672  \n",
       "WifiS        0.008822   0.159135   0.055   0.9560  \n",
       "PembayaranS  0.500384   0.211446   2.366   0.0216 *\n",
       "PelayananS   0.105973   0.236655   0.448   0.6561  \n",
       "---\n",
       "Signif. codes:  0 ‘***’ 0.001 ‘**’ 0.01 ‘*’ 0.05 ‘.’ 0.1 ‘ ’ 1\n",
       "\n",
       "Residual standard error: 0.7888 on 53 degrees of freedom\n",
       "Multiple R-squared:  0.2961,\tAdjusted R-squared:  0.2165 \n",
       "F-statistic: 3.717 on 6 and 53 DF,  p-value: 0.003707\n"
      ]
     },
     "execution_count": 46,
     "metadata": {},
     "output_type": "execute_result"
    }
   ],
   "source": [
    "reg_all <- lm(RRS ~ TampilanS + MenuS + PackagingS + WifiS + PembayaranS + PelayananS, data = DataOutback)\n",
    "summary(reg_all)"
   ]
  },
  {
   "cell_type": "markdown",
   "metadata": {
    "collapsed": true
   },
   "source": [
    "# 7. Variabel apa saja yang signifikan dalam mempengaruhi Retention Rate?"
   ]
  },
  {
   "cell_type": "code",
   "execution_count": 47,
   "metadata": {
    "collapsed": false
   },
   "outputs": [
    {
     "data": {
      "text/plain": [
       "Subset selection object\n",
       "Call: regsubsets.formula(RRS ~ TampilanS + MenuS + PackagingS + WifiS + \n",
       "    PembayaranS + PelayananS, data = DataOutback, nbest = 1, \n",
       "    nvmax = NULL, force.in = NULL, force.out = NULL, method = \"exhaustive\")\n",
       "6 Variables  (and intercept)\n",
       "            Forced in Forced out\n",
       "TampilanS       FALSE      FALSE\n",
       "MenuS           FALSE      FALSE\n",
       "PackagingS      FALSE      FALSE\n",
       "WifiS           FALSE      FALSE\n",
       "PembayaranS     FALSE      FALSE\n",
       "PelayananS      FALSE      FALSE\n",
       "1 subsets of each size up to 6\n",
       "Selection Algorithm: exhaustive"
      ]
     },
     "execution_count": 47,
     "metadata": {},
     "output_type": "execute_result"
    }
   ],
   "source": [
    "library(leaps)\n",
    "regsubsets.out <-regsubsets(RRS ~ TampilanS + MenuS + PackagingS + WifiS + PembayaranS + PelayananS,\n",
    "               data = DataOutback,\n",
    "               nbest = 1,       # 1 best model for each number of predictors\n",
    "               nvmax = NULL,    # NULL for no limit on number of variables\n",
    "               force.in = NULL, force.out = NULL,\n",
    "               method = \"exhaustive\")\n",
    "regsubsets.out"
   ]
  },
  {
   "cell_type": "code",
   "execution_count": 48,
   "metadata": {
    "collapsed": false
   },
   "outputs": [
    {
     "data": {
      "text/html": [
       "<table>\n",
       "<thead><tr><th></th><th scope=col>TampilanS</th><th scope=col>MenuS</th><th scope=col>PackagingS</th><th scope=col>WifiS</th><th scope=col>PembayaranS</th><th scope=col>PelayananS</th></tr></thead>\n",
       "<tbody>\n",
       "\t<tr><th scope=row>1  ( 1 )</th><td> </td><td> </td><td> </td><td> </td><td>*</td><td> </td></tr>\n",
       "\t<tr><th scope=row>2  ( 1 )</th><td>*</td><td> </td><td> </td><td> </td><td>*</td><td> </td></tr>\n",
       "\t<tr><th scope=row>3  ( 1 )</th><td>*</td><td> </td><td>*</td><td> </td><td>*</td><td> </td></tr>\n",
       "\t<tr><th scope=row>4  ( 1 )</th><td>*</td><td> </td><td>*</td><td> </td><td>*</td><td>*</td></tr>\n",
       "\t<tr><th scope=row>5  ( 1 )</th><td>*</td><td> </td><td>*</td><td>*</td><td>*</td><td>*</td></tr>\n",
       "\t<tr><th scope=row>6  ( 1 )</th><td>*</td><td>*</td><td>*</td><td>*</td><td>*</td><td>*</td></tr>\n",
       "</tbody>\n",
       "</table>\n"
      ],
      "text/latex": [
       "\\begin{tabular}{r|llllll}\n",
       "  & TampilanS & MenuS & PackagingS & WifiS & PembayaranS & PelayananS\\\\\n",
       "\\hline\n",
       "\t1  ( 1 ) &   &   &   &   & * &  \\\\\n",
       "\t2  ( 1 ) & * &   &   &   & * &  \\\\\n",
       "\t3  ( 1 ) & * &   & * &   & * &  \\\\\n",
       "\t4  ( 1 ) & * &   & * &   & * & *\\\\\n",
       "\t5  ( 1 ) & * &   & * & * & * & *\\\\\n",
       "\t6  ( 1 ) & * & * & * & * & * & *\\\\\n",
       "\\end{tabular}\n"
      ],
      "text/plain": [
       "         TampilanS MenuS PackagingS WifiS PembayaranS PelayananS\n",
       "1  ( 1 )                                            *           \n",
       "2  ( 1 )         *                                  *           \n",
       "3  ( 1 )         *                *                 *           \n",
       "4  ( 1 )         *                *                 *          *\n",
       "5  ( 1 )         *                *     *           *          *\n",
       "6  ( 1 )         *     *          *     *           *          *"
      ]
     },
     "execution_count": 48,
     "metadata": {},
     "output_type": "execute_result"
    }
   ],
   "source": [
    "summary.out <- summary(regsubsets.out)\n",
    "as.data.frame(summary.out$outmat)"
   ]
  },
  {
   "cell_type": "markdown",
   "metadata": {},
   "source": [
    "# Analisa dengan Adjusted R square pada Multivariable Regression: \n",
    "# Variabel Pembayaran dan Tampilan yang signifikan dan memberikan Adjusted R square tertinggi."
   ]
  },
  {
   "cell_type": "code",
   "execution_count": 49,
   "metadata": {
    "collapsed": false,
    "scrolled": true
   },
   "outputs": [],
   "source": [
    "# plot(regsubsets.out, scale = \"adjr2\", main = \"Adjusted R^2\")"
   ]
  },
  {
   "cell_type": "markdown",
   "metadata": {},
   "source": [
    "![Co](13.png \"Correlastion vs Causation\") "
   ]
  },
  {
   "cell_type": "markdown",
   "metadata": {},
   "source": [
    "# Variabel Wifi dan Pelayanan yang signifikan dan memberikan Adjusted R square tertinggi:\n",
    "## * Adjusted R square benilai 0.2624,\n",
    "## * p-value Tampilan 0.06 signiifikan pada alpha 5%\n",
    "## * p-value Pembayaran 0.00057 signigfikan pada alpha 0.1% "
   ]
  },
  {
   "cell_type": "code",
   "execution_count": 50,
   "metadata": {
    "collapsed": false,
    "scrolled": true
   },
   "outputs": [
    {
     "data": {
      "text/plain": [
       "\n",
       "Call:\n",
       "lm(formula = RRS ~ TampilanS + PembayaranS, data = DataOutback)\n",
       "\n",
       "Residuals:\n",
       "     Min       1Q   Median       3Q      Max \n",
       "-1.60283 -0.55538  0.08193  0.44462  2.39717 \n",
       "\n",
       "Coefficients:\n",
       "            Estimate Std. Error t value Pr(>|t|)    \n",
       "(Intercept)   0.1079     0.7247   0.149 0.882191    \n",
       "TampilanS     0.3627     0.1461   2.483 0.016004 *  \n",
       "PembayaranS   0.5899     0.1618   3.646 0.000577 ***\n",
       "---\n",
       "Signif. codes:  0 ‘***’ 0.001 ‘**’ 0.01 ‘*’ 0.05 ‘.’ 0.1 ‘ ’ 1\n",
       "\n",
       "Residual standard error: 0.7653 on 57 degrees of freedom\n",
       "Multiple R-squared:  0.2874,\tAdjusted R-squared:  0.2624 \n",
       "F-statistic:  11.5 on 2 and 57 DF,  p-value: 6.395e-05\n"
      ]
     },
     "execution_count": 50,
     "metadata": {},
     "output_type": "execute_result"
    }
   ],
   "source": [
    "reg_best <- lm(RRS ~ TampilanS + PembayaranS, data = DataOutback)\n",
    "summary(reg_best)\n"
   ]
  },
  {
   "cell_type": "code",
   "execution_count": null,
   "metadata": {
    "collapsed": true
   },
   "outputs": [],
   "source": []
  },
  {
   "cell_type": "code",
   "execution_count": null,
   "metadata": {
    "collapsed": true
   },
   "outputs": [],
   "source": []
  }
 ],
 "metadata": {
  "kernelspec": {
   "display_name": "R",
   "language": "R",
   "name": "ir"
  },
  "language_info": {
   "codemirror_mode": "r",
   "file_extension": ".r",
   "mimetype": "text/x-r-source",
   "name": "R",
   "pygments_lexer": "r",
   "version": "3.2.2"
  }
 },
 "nbformat": 4,
 "nbformat_minor": 0
}
