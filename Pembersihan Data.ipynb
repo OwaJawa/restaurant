{
 "cells": [
  {
   "cell_type": "code",
   "execution_count": 1,
   "metadata": {
    "collapsed": false
   },
   "outputs": [
    {
     "data": {
      "text/html": [
       "<script>\n",
       "code_show=true; \n",
       "function code_toggle() {\n",
       " if (code_show){\n",
       " $('div.input').hide();\n",
       " } else {\n",
       " $('div.input').show();\n",
       " }\n",
       " code_show = !code_show\n",
       "} \n",
       "$( document ).ready(code_toggle);\n",
       "</script>\n",
       "<form action=\"javascript:code_toggle()\"><input type=\"submit\" value=\"Click here to toggle on/off the raw code.\"></form>"
      ],
      "text/plain": [
       "<IPython.core.display.HTML object>"
      ]
     },
     "execution_count": 1,
     "metadata": {},
     "output_type": "execute_result"
    }
   ],
   "source": [
    "from IPython.display import HTML\n",
    "\n",
    "HTML('''<script>\n",
    "code_show=true; \n",
    "function code_toggle() {\n",
    " if (code_show){\n",
    " $('div.input').hide();\n",
    " } else {\n",
    " $('div.input').show();\n",
    " }\n",
    " code_show = !code_show\n",
    "} \n",
    "$( document ).ready(code_toggle);\n",
    "</script>\n",
    "<form action=\"javascript:code_toggle()\"><input type=\"submit\" value=\"Click here to toggle on/off the raw code.\"></form>''')"
   ]
  },
  {
   "cell_type": "code",
   "execution_count": 2,
   "metadata": {
    "collapsed": false
   },
   "outputs": [
    {
     "name": "stdout",
     "output_type": "stream",
     "text": [
      "Populating the interactive namespace from numpy and matplotlib\n"
     ]
    },
    {
     "data": {
      "text/html": [
       "<style>body {\n",
       "    margin: 0;\n",
       "    font-family: Helvetica;\n",
       "}\n",
       "table.dataframe {\n",
       "    border-collapse: collapse;\n",
       "    border: none;\n",
       "}\n",
       "table.dataframe tr {\n",
       "    border: none;\n",
       "}\n",
       "table.dataframe td, table.dataframe th {\n",
       "    margin: 0;\n",
       "    border: 1px solid white;\n",
       "    padding-left: 0.25em;\n",
       "    padding-right: 0.25em;\n",
       "}\n",
       "table.dataframe th:not(:empty) {\n",
       "    background-color: #fec;\n",
       "    text-align: left;\n",
       "    font-weight: normal;\n",
       "}\n",
       "table.dataframe tr:nth-child(2) th:empty {\n",
       "    border-left: none;\n",
       "    border-right: 1px dashed #888;\n",
       "}\n",
       "table.dataframe td {\n",
       "    border: 2px solid #ccf;\n",
       "    background-color: #f4f4ff;\n",
       "}\n",
       "h3 {\n",
       "    color: white;\n",
       "    background-color: black;\n",
       "    padding: 0.5em;\n",
       "}\n",
       "</style>"
      ],
      "text/plain": [
       "<IPython.core.display.HTML object>"
      ]
     },
     "execution_count": 2,
     "metadata": {},
     "output_type": "execute_result"
    }
   ],
   "source": [
    "import json\n",
    "import pandas as pd\n",
    "import matplotlib\n",
    "from pandas import DataFrame as df\n",
    "import numpy as np\n",
    "%matplotlib inline\n",
    "%pylab inline\n",
    "pylab.rcParams['figure.figsize'] = (10, 8)\n",
    "\n",
    "%matplotlib inline\n",
    "import pandas as pd\n",
    "\n",
    "from IPython.core.display import HTML\n",
    "css = open('style-table.css').read() + open('style-notebook.css').read()\n",
    "HTML('<style>{}</style>'.format(css))"
   ]
  },
  {
   "cell_type": "code",
   "execution_count": null,
   "metadata": {
    "collapsed": false
   },
   "outputs": [],
   "source": []
  },
  {
   "cell_type": "code",
   "execution_count": 3,
   "metadata": {
    "collapsed": false
   },
   "outputs": [
    {
     "data": {
      "text/html": [
       "<div>\n",
       "<table border=\"1\" class=\"dataframe\">\n",
       "  <thead>\n",
       "    <tr style=\"text-align: right;\">\n",
       "      <th></th>\n",
       "      <th>RRO</th>\n",
       "      <th>RRS</th>\n",
       "      <th>TampilanO</th>\n",
       "      <th>TampilanS</th>\n",
       "      <th>MenuO</th>\n",
       "      <th>MenuS</th>\n",
       "      <th>PackagingO</th>\n",
       "      <th>PackagingS</th>\n",
       "      <th>WifiO</th>\n",
       "      <th>WifiS</th>\n",
       "      <th>PembayaranO</th>\n",
       "      <th>PembayaranS</th>\n",
       "      <th>PelayananO</th>\n",
       "      <th>PelayananS</th>\n",
       "    </tr>\n",
       "  </thead>\n",
       "  <tbody>\n",
       "    <tr>\n",
       "      <th>0</th>\n",
       "      <td>3</td>\n",
       "      <td>1</td>\n",
       "      <td>S</td>\n",
       "      <td>S</td>\n",
       "      <td>S</td>\n",
       "      <td>S</td>\n",
       "      <td>S</td>\n",
       "      <td>S</td>\n",
       "      <td>S</td>\n",
       "      <td>S</td>\n",
       "      <td>S</td>\n",
       "      <td>S</td>\n",
       "      <td>S</td>\n",
       "      <td>S</td>\n",
       "    </tr>\n",
       "    <tr>\n",
       "      <th>1</th>\n",
       "      <td>3</td>\n",
       "      <td>3</td>\n",
       "      <td>S</td>\n",
       "      <td>RG</td>\n",
       "      <td>S</td>\n",
       "      <td>RG</td>\n",
       "      <td>S</td>\n",
       "      <td>RG</td>\n",
       "      <td>RG</td>\n",
       "      <td>RG</td>\n",
       "      <td>S</td>\n",
       "      <td>S</td>\n",
       "      <td>S</td>\n",
       "      <td>S</td>\n",
       "    </tr>\n",
       "    <tr>\n",
       "      <th>2</th>\n",
       "      <td>1</td>\n",
       "      <td>1</td>\n",
       "      <td>SS</td>\n",
       "      <td>RG</td>\n",
       "      <td>SS</td>\n",
       "      <td>S</td>\n",
       "      <td>SS</td>\n",
       "      <td>S</td>\n",
       "      <td>SS</td>\n",
       "      <td>TS</td>\n",
       "      <td>SS</td>\n",
       "      <td>SS</td>\n",
       "      <td>SS</td>\n",
       "      <td>S</td>\n",
       "    </tr>\n",
       "    <tr>\n",
       "      <th>3</th>\n",
       "      <td>2</td>\n",
       "      <td>2</td>\n",
       "      <td>S</td>\n",
       "      <td>S</td>\n",
       "      <td>S</td>\n",
       "      <td>RG</td>\n",
       "      <td>RG</td>\n",
       "      <td>RG</td>\n",
       "      <td>RG</td>\n",
       "      <td>RG</td>\n",
       "      <td>RG</td>\n",
       "      <td>S</td>\n",
       "      <td>S</td>\n",
       "      <td>S</td>\n",
       "    </tr>\n",
       "    <tr>\n",
       "      <th>4</th>\n",
       "      <td>1</td>\n",
       "      <td>4</td>\n",
       "      <td>S</td>\n",
       "      <td>STS</td>\n",
       "      <td>S</td>\n",
       "      <td>STS</td>\n",
       "      <td>S</td>\n",
       "      <td>STS</td>\n",
       "      <td>S</td>\n",
       "      <td>TS</td>\n",
       "      <td>RG</td>\n",
       "      <td>RG</td>\n",
       "      <td>SS</td>\n",
       "      <td>TS</td>\n",
       "    </tr>\n",
       "  </tbody>\n",
       "</table>\n",
       "</div>"
      ],
      "text/plain": [
       "   RRO  RRS TampilanO TampilanS MenuO MenuS PackagingO PackagingS WifiO WifiS  \\\n",
       "0    3    1         S         S     S     S          S          S     S     S   \n",
       "1    3    3         S        RG     S    RG          S         RG    RG    RG   \n",
       "2    1    1        SS        RG    SS     S         SS          S    SS    TS   \n",
       "3    2    2         S         S     S    RG         RG         RG    RG    RG   \n",
       "4    1    4         S       STS     S   STS          S        STS     S    TS   \n",
       "\n",
       "  PembayaranO PembayaranS PelayananO PelayananS  \n",
       "0           S           S          S          S  \n",
       "1           S           S          S          S  \n",
       "2          SS          SS         SS          S  \n",
       "3          RG           S          S          S  \n",
       "4          RG          RG         SS         TS  "
      ]
     },
     "execution_count": 3,
     "metadata": {},
     "output_type": "execute_result"
    }
   ],
   "source": [
    "path = 'RiskaOS.csv'\n",
    "open(path).readline()\n",
    "data = pd.read_csv(path)\n",
    "data.head()"
   ]
  },
  {
   "cell_type": "code",
   "execution_count": 4,
   "metadata": {
    "collapsed": false,
    "scrolled": true
   },
   "outputs": [
    {
     "name": "stderr",
     "output_type": "stream",
     "text": [
      "/home/qbits7/anaconda2/lib/python2.7/site-packages/pandas/core/internals.py:4288: FutureWarning: elementwise comparison failed; returning scalar instead, but in the future will perform elementwise comparison\n",
      "  comp = (nn == nn_at)\n"
     ]
    },
    {
     "data": {
      "text/html": [
       "<div>\n",
       "<table border=\"1\" class=\"dataframe\">\n",
       "  <thead>\n",
       "    <tr style=\"text-align: right;\">\n",
       "      <th></th>\n",
       "      <th>RRO</th>\n",
       "      <th>RRS</th>\n",
       "      <th>TampilanO</th>\n",
       "      <th>TampilanS</th>\n",
       "      <th>MenuO</th>\n",
       "      <th>MenuS</th>\n",
       "      <th>PackagingO</th>\n",
       "      <th>PackagingS</th>\n",
       "      <th>WifiO</th>\n",
       "      <th>WifiS</th>\n",
       "      <th>PembayaranO</th>\n",
       "      <th>PembayaranS</th>\n",
       "      <th>PelayananO</th>\n",
       "      <th>PelayananS</th>\n",
       "    </tr>\n",
       "  </thead>\n",
       "  <tbody>\n",
       "    <tr>\n",
       "      <th>0</th>\n",
       "      <td>3</td>\n",
       "      <td>5</td>\n",
       "      <td>4</td>\n",
       "      <td>4</td>\n",
       "      <td>4</td>\n",
       "      <td>4</td>\n",
       "      <td>4</td>\n",
       "      <td>4</td>\n",
       "      <td>4</td>\n",
       "      <td>4</td>\n",
       "      <td>4</td>\n",
       "      <td>4</td>\n",
       "      <td>4</td>\n",
       "      <td>4</td>\n",
       "    </tr>\n",
       "    <tr>\n",
       "      <th>1</th>\n",
       "      <td>3</td>\n",
       "      <td>3</td>\n",
       "      <td>4</td>\n",
       "      <td>3</td>\n",
       "      <td>4</td>\n",
       "      <td>3</td>\n",
       "      <td>4</td>\n",
       "      <td>3</td>\n",
       "      <td>3</td>\n",
       "      <td>3</td>\n",
       "      <td>4</td>\n",
       "      <td>4</td>\n",
       "      <td>4</td>\n",
       "      <td>4</td>\n",
       "    </tr>\n",
       "    <tr>\n",
       "      <th>2</th>\n",
       "      <td>5</td>\n",
       "      <td>5</td>\n",
       "      <td>5</td>\n",
       "      <td>3</td>\n",
       "      <td>5</td>\n",
       "      <td>4</td>\n",
       "      <td>5</td>\n",
       "      <td>4</td>\n",
       "      <td>5</td>\n",
       "      <td>2</td>\n",
       "      <td>5</td>\n",
       "      <td>5</td>\n",
       "      <td>5</td>\n",
       "      <td>4</td>\n",
       "    </tr>\n",
       "    <tr>\n",
       "      <th>3</th>\n",
       "      <td>4</td>\n",
       "      <td>4</td>\n",
       "      <td>4</td>\n",
       "      <td>4</td>\n",
       "      <td>4</td>\n",
       "      <td>3</td>\n",
       "      <td>3</td>\n",
       "      <td>3</td>\n",
       "      <td>3</td>\n",
       "      <td>3</td>\n",
       "      <td>3</td>\n",
       "      <td>4</td>\n",
       "      <td>4</td>\n",
       "      <td>4</td>\n",
       "    </tr>\n",
       "    <tr>\n",
       "      <th>4</th>\n",
       "      <td>5</td>\n",
       "      <td>2</td>\n",
       "      <td>4</td>\n",
       "      <td>1</td>\n",
       "      <td>4</td>\n",
       "      <td>1</td>\n",
       "      <td>4</td>\n",
       "      <td>1</td>\n",
       "      <td>4</td>\n",
       "      <td>2</td>\n",
       "      <td>3</td>\n",
       "      <td>3</td>\n",
       "      <td>5</td>\n",
       "      <td>2</td>\n",
       "    </tr>\n",
       "  </tbody>\n",
       "</table>\n",
       "</div>"
      ],
      "text/plain": [
       "  RRO RRS  TampilanO  TampilanS  MenuO  MenuS  PackagingO  PackagingS  WifiO  \\\n",
       "0   3   5          4          4      4      4           4           4      4   \n",
       "1   3   3          4          3      4      3           4           3      3   \n",
       "2   5   5          5          3      5      4           5           4      5   \n",
       "3   4   4          4          4      4      3           3           3      3   \n",
       "4   5   2          4          1      4      1           4           1      4   \n",
       "\n",
       "   WifiS  PembayaranO  PembayaranS  PelayananO  PelayananS  \n",
       "0      4            4            4           4           4  \n",
       "1      3            4            4           4           4  \n",
       "2      2            5            5           5           4  \n",
       "3      3            3            4           4           4  \n",
       "4      2            3            3           5           2  "
      ]
     },
     "execution_count": 4,
     "metadata": {},
     "output_type": "execute_result"
    }
   ],
   "source": [
    "path = 'RiskaOS.csv'\n",
    "open(path).readline()\n",
    "data = pd.read_csv(path)\n",
    "\n",
    "data = data.replace({'RRO' : { 5 : '1', 4 : '2', 2 : '4', 1 : '5' }})\n",
    "data = data.replace({'RRS' : { 5 : '1', 4 : '2', 2 : '4', 1 : '5' }})\n",
    "data = data.replace({'TampilanO' : {  'SS' : 5, 'S' : 4, 'RG' : 3, 'TS' : 2, 'STS' : 1}})\n",
    "data = data.replace({'TampilanS' : {  'SS' : 5, 'S' : 4, 'RG' : 3, 'TS' : 2, 'STS' : 1}})\n",
    "data = data.replace({'MenuO' : {  'SS' : 5, 'S' : 4, 'RG' : 3, 'TS' : 2, 'STS' : 1}})\n",
    "data = data.replace({'MenuS' : {  'SS' : 5, 'S' : 4, 'RG' : 3, 'TS' : 2, 'STS' : 1}})\n",
    "data = data.replace({'PackagingO' : {  'SS' : 5, 'S' : 4, 'RG' : 3, 'TS' : 2, 'STS' : 1}})\n",
    "data = data.replace({'PackagingS' : {  'SS' : 5, 'S' : 4, 'RG' : 3, 'TS' : 2, 'STS' : 1}})\n",
    "data = data.replace({'WifiO' : {  'SS' : 5, 'S' : 4, 'RG' : 3, 'TS' : 2, 'STS' : 1}})\n",
    "data = data.replace({'WifiS' : {  'SS' : 5, 'S' : 4, 'RG' : 3, 'TS' : 2, 'STS' : 1}})\n",
    "data = data.replace({'PembayaranO' : {  'SS' : 5, 'S' : 4, 'RG' : 3, 'TS' : 2, 'STS' : 1}})\n",
    "data = data.replace({'PembayaranS' : {  'SS' : 5, 'S' : 4, 'RG' : 3, 'TS' : 2, 'STS' : 1}})\n",
    "data = data.replace({'PelayananO' : {  'SS' : 5, 'S' : 4, 'RG' : 3, 'TS' : 2, 'STS' : 1}})\n",
    "data = data.replace({'PelayananS' : {  'SS' : 5, 'S' : 4, 'RG' : 3, 'TS' : 2, 'STS' : 1}})\n",
    "\n",
    "data.head()"
   ]
  },
  {
   "cell_type": "code",
   "execution_count": 5,
   "metadata": {
    "collapsed": false
   },
   "outputs": [],
   "source": [
    "import csv\n",
    "data.to_csv('RiskaBersih.csv')"
   ]
  },
  {
   "cell_type": "code",
   "execution_count": 6,
   "metadata": {
    "collapsed": false
   },
   "outputs": [],
   "source": [
    "data1 = pd.read_csv('RiskaBersih.csv')"
   ]
  },
  {
   "cell_type": "code",
   "execution_count": null,
   "metadata": {
    "collapsed": true
   },
   "outputs": [],
   "source": []
  }
 ],
 "metadata": {
  "kernelspec": {
   "display_name": "Python 2",
   "language": "python",
   "name": "python2"
  },
  "language_info": {
   "codemirror_mode": {
    "name": "ipython",
    "version": 2
   },
   "file_extension": ".py",
   "mimetype": "text/x-python",
   "name": "python",
   "nbconvert_exporter": "python",
   "pygments_lexer": "ipython2",
   "version": "2.7.10"
  }
 },
 "nbformat": 4,
 "nbformat_minor": 0
}
